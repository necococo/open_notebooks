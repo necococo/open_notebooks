{
 "cells": [
  {
   "cell_type": "markdown",
   "metadata": {},
   "source": [
    "# **非構造化RAG**\n",
    "非構造化または（準構造化）RAGは、テキスト、表、画像を組み合わせた文書を処理するために設計された手法です。テキストの分割による表の分断や、意味検索のための表の埋め込みの難しさといった課題に対応します。\n",
    "\n",
    "ここでは、テキスト、表、画像を解析して分離するために、`unstructured.io`を使用しています。\n",
    "\n",
    "**ツール参照:** [Unstructured](https://unstructured.io/)\n",
    "\n",
    "---\n",
    "## 環境構築 (macOS)\n",
    "\n",
    "以下のツールを環境にインストールします。\n",
    "\n",
    "```\n",
    "brew install libmagic poppler libreoffice pandoc tesseract\n",
    "```\n",
    "\n",
    "`unstructured` のインストール:\n",
    "*   [unstructured.io インストールガイド](https://docs.unstructured.io/open-source/installation/full-installation)\n",
    "\n",
    "```\n",
    "pip install \"unstructured[all-docs]\"\n",
    "```\n",
    "\n",
    "**対応ドキュメント形式:**\n",
    "\n",
    "\"csv\", \"doc\", \"docx\", \"epub\", \"image\", \"md\", \"msg\", \"odt\", \"org\", \"pdf\", \"ppt\", \"pptx\", \"rtf\", \"rst\", \"tsv\", \"xlsx\"\n",
    "\n",
    "---\n",
    "\n",
    "## 特定のデータコネクタのインストール (例: S3):\n",
    "\n",
    "```\n",
    "pip install \"unstructured-ingest[s3]\" # 今回は不使用\n",
    "```\n",
    "\n",
    "**データコネクタとは:**\n",
    "\n",
    "様々なデータソースからデータを取得し、アプリケーションやシステムで利用できるようにするためのツールまたはコンポーネントです。データの形式やアクセス方法の違いを吸収します。\n",
    "\n",
    "**対応データコネクタ:**\n",
    "\"airtable\", \"azure\", \"azure-ai-search\", \"biomed\", \"box\", \"confluence\", \"couchbase\", \"delta-table\", \"discord\", \"dropbox\", \"elasticsearch\", \"gcs\", \"github\", \"gitlab\", \"google-drive\", \"jira\", \"mongodb\", \"notion\", \"opensearch\", \"onedrive\", \"outlook\", \"reddit\", \"s3\", \"sharepoint\", \"salesforce\", \"slack\", \"wikipedia\"\n",
    "\n"
   ]
  },
  {
   "cell_type": "markdown",
   "metadata": {},
   "source": [
    "## **🔸 Multimodal Embedding を使いたい場合（画像+テキスト）**\n",
    "🔹 **現時点で Gemini AI Studio API ではマルチモーダルの埋め込みは未対応！**  \n",
    "🔹 **GCP の Vertex AI API を使う必要があるのだ！**  \n",
    "\n",
    "| **方法** | **Gemini AI Studio API** | **Vertex AI API (GCP)** |\n",
    "|------------|-------------------|----------------|\n",
    "| **テキスト埋め込み** | ✅ 可能（`models/embedding-001`） | ✅ 可能（`textembedding-gecko`） |\n",
    "| **画像の埋め込み** | ❌ 未対応 | ❌ 未対応 |\n",
    "| **画像 + テキスト埋め込み** | ❌ 直接は不可（画像→テキスト→埋め込み） | ❌ 直接は不可 |\n",
    "| **商用利用** | ❌ 制限あり | ✅ 可能 |\n",
    "| **おすすめ用途** | ✅ 個人開発 & プロトタイプ | ✅ 企業向け & 本番環境 |\n",
    "\n",
    "🚀 **結論**  \n",
    "🔹 **「Gemini AI Studio API」では、画像の埋め込みは直接できないが、画像 → テキスト → 埋め込み の方法なら可能！**  \n",
    "🔹 **マルチモーダル埋め込みが必要なら、OpenAI CLIP など他の選択肢も検討するのだ！**\n"
   ]
  },
  {
   "cell_type": "code",
   "execution_count": 76,
   "metadata": {},
   "outputs": [
    {
     "name": "stdout",
     "output_type": "stream",
     "text": [
      "\u001b[33mWARNING: google-cloud-aiplatform 1.71.1 does not provide the extra 'all'\u001b[0m\u001b[33m\n",
      "\u001b[0m"
     ]
    }
   ],
   "source": [
    "!pip install -qU vertexai langchain_google_vertexai \"unstructured[all-docs]\" pdfplumber"
   ]
  },
  {
   "cell_type": "code",
   "execution_count": null,
   "metadata": {},
   "outputs": [],
   "source": [
    "# !gcloud auth application-default set-quota-project ${project_id}\n",
    "# !gcloud config get-value project\n"
   ]
  },
  {
   "cell_type": "markdown",
   "metadata": {},
   "source": [
    "# PDFから画像、テーブル、チャンク化テキストを読み込む"
   ]
  },
  {
   "cell_type": "code",
   "execution_count": 79,
   "metadata": {},
   "outputs": [],
   "source": [
    "# load and extract images, tables, and chunk text\n",
    "from unstructured.partition.pdf import partition_pdf\n",
    "import os\n",
    "\n",
    "dataset_dir = \"../data/pdf/\"\n",
    "pdf_file_name = \"Attention Is All You Need 1706.03762v7.pdf\"\n",
    "extract_image_block_output_dir = os.path.join(dataset_dir, \"images\")\n",
    "os.makedirs(extract_image_block_output_dir, exist_ok=True)\n",
    "\n",
    "# pdf_elements = partition_pdf(\n",
    "#         filename=os.path.join(dataset_dir, pdf_file_name),\n",
    "#         extract_images_in_pdf=True,\n",
    "#         infer_table_structure=True,\n",
    "#         chunking_strategy=\"by_title\",\n",
    "#         max_characters=4000,\n",
    "#         new_after_n_chars=3800,\n",
    "#         combine_text_under_n_chars=2000,\n",
    "#         image_output_dir_path=os.path.join(dataset_dir, \"images\"),\n",
    "#     )\n",
    "\n",
    "pdf_elements = partition_pdf(\n",
    "    filename=os.path.join(dataset_dir, pdf_file_name),\n",
    "    extract_images_in_pdf=True,\n",
    "    infer_table_structure=True,\n",
    "    # max_characters=4000,\n",
    "    # combine_text_under_n_chars=200,\n",
    "    extract_image_block_output_dir=extract_image_block_output_dir, # defaultでは実行ファイルがあるフォルダ下にfiguresが作成される\n",
    ")\n"
   ]
  },
  {
   "cell_type": "markdown",
   "metadata": {},
   "source": [
    "## [unstructured.partition.pdf のパラメータ](https://docs.unstructured.io/open-source/core-functionality/partitioning)\n",
    "\n",
    "### 主なパラメータ\n",
    "\n",
    "| パラメータ | 説明 |\n",
    "|---|---|\n",
    "| `filename` | PDF ファイルのパスを指定します。 |\n",
    "| `file` | PDF ファイルオブジェクトを指定します。`filename` または `file` のいずれかを指定する必要があります。 |\n",
    "| `strategy` | PDF ファイルの分割戦略を指定します。 |\n",
    "|  | `\"auto\"`: 自動的に最適な戦略を選択します (デフォルト)。 |\n",
    "|  | `\"fast\"`: 高速な分割を行います。 |\n",
    "|  | `\"hi_res\"`: 高解像度な分割を行います。 |\n",
    "|  | `\"ocr_only\"`: OCR (光学文字認識) のみを行います。 |\n",
    "| `infer_table_structure` | テーブル構造を推論するかどうかを指定します (`True`/`False`)。 |\n",
    "| `ocr_languages` | OCR で使用する言語を指定します。 |\n",
    "| `encoding` | ファイルのエンコーディングを指定します。 |\n",
    "| `include_page_breaks` | ページ区切りを含めるかどうかを指定します (`True`/`False`)。 |\n",
    "| `max_partition` | 最大分割数を指定します。 |\n",
    "| `extract_image_block_output_dir` | 画像の出力フォルダを指定します。 |\n",
    "\n",
    "### 詳細なパラメータ\n",
    "\n",
    "| パラメータ | 説明 |\n",
    "|---|---|\n",
    "| `chunking_strategy` | 分割された要素をどのようにチャンクにまとめるかを指定します。 |\n",
    "|  | `\"by_title\"`: タイトルごとにチャンクをまとめます。 |\n",
    "|  | `\"by_paragraph\"`: 段落ごとにチャンクをまとめます。 |\n",
    "|  | `\"contiguous\"`: 連続する要素をまとめてチャンクにします。 |\n",
    "| `new_after_n_words` | チャンクの最大単語数を指定します。 |\n",
    "| `new_after_n_pages` | チャンクの最大ページ数を指定します。 |\n",
    "| `metadata_filename` | メタデータファイルを指定します。 |\n",
    "| `pdf_text_extraction` | PDF テキスト抽出方法を指定します。 |\n",
    "|  | `\"textract\"`: textract ライブラリを使用します。 |\n",
    "|  | `\"tika\"`: Tika サーバーを使用します。 |\n",
    "|  | `\"paddlepaddle\"`: PaddlePaddle OCR を使用します。 |\n",
    "\n",
    "### パラメータの選択例\n",
    "\n",
    "| 例 | 設定 |\n",
    "|---|---|\n",
    "| 高速な分割 | `strategy=\"fast\"` |\n",
    "| 高解像度な分割 | `strategy=\"hi_res\"` |\n",
    "| テーブル構造の推論 | `infer_table_structure=True` |\n",
    "| 英語と日本語の OCR | `ocr_languages=[\"en\", \"ja\"]` |\n",
    "| ページ区切りを含める | `include_page_breaks=True` |\n",
    "\n",
    "### 注意点\n",
    "\n",
    "* パラメータの組み合わせによっては、期待通りの結果が得られない場合があります。\n",
    "* PDF ファイルの内容や構造によっては、分割がうまくいかない場合があります。\n",
    "* OCR を使用する場合、言語によっては精度が低い場合があります。"
   ]
  },
  {
   "cell_type": "code",
   "execution_count": 80,
   "metadata": {},
   "outputs": [
    {
     "data": {
      "text/plain": [
       "Counter({\"<class 'unstructured.documents.elements.NarrativeText'>\": 83,\n",
       "         \"<class 'unstructured.documents.elements.ListItem'>\": 43,\n",
       "         \"<class 'unstructured.documents.elements.Title'>\": 38,\n",
       "         \"<class 'unstructured.documents.elements.Text'>\": 21,\n",
       "         \"<class 'unstructured.documents.elements.Footer'>\": 8,\n",
       "         \"<class 'unstructured.documents.elements.Image'>\": 7,\n",
       "         \"<class 'unstructured.documents.elements.FigureCaption'>\": 5,\n",
       "         \"<class 'unstructured.documents.elements.Formula'>\": 5,\n",
       "         \"<class 'unstructured.documents.elements.Table'>\": 4,\n",
       "         \"<class 'unstructured.documents.elements.Header'>\": 3,\n",
       "         \"<class 'unstructured.documents.elements.EmailAddress'>\": 1})"
      ]
     },
     "execution_count": 80,
     "metadata": {},
     "output_type": "execute_result"
    }
   ],
   "source": [
    "# # check unique categories\n",
    "\n",
    "from collections import Counter\n",
    "category_counts = Counter(str(type(element)) for element in pdf_elements)\n",
    "unique_categories = set(category_counts)\n",
    "category_counts"
   ]
  },
  {
   "cell_type": "code",
   "execution_count": 81,
   "metadata": {},
   "outputs": [
    {
     "data": {
      "text/plain": [
       "{'EmailAddress',\n",
       " 'FigureCaption',\n",
       " 'Footer',\n",
       " 'Formula',\n",
       " 'Header',\n",
       " 'Image',\n",
       " 'ListItem',\n",
       " 'NarrativeText',\n",
       " 'Table',\n",
       " 'Title',\n",
       " 'UncategorizedText'}"
      ]
     },
     "execution_count": 81,
     "metadata": {},
     "output_type": "execute_result"
    }
   ],
   "source": [
    "# extract unique types\n",
    "unique_types = {el.to_dict()['type'] for el in pdf_elements}\n",
    "unique_types"
   ]
  },
  {
   "cell_type": "code",
   "execution_count": 91,
   "metadata": {},
   "outputs": [],
   "source": [
    "# multi-modal-RAGにおいてgeminiのapiを使うにはGCPで(面倒な)設定をする必要がある様子。\n",
    "# こちらを参考にした。https://github.com/shohei0990/Multimodal_RAG_00/tree/main?tab=readme-ov-file\n",
    "\n",
    "import os\n",
    "from dotenv import load_dotenv\n",
    "load_dotenv()\n",
    "\n",
    "import vertexai\n",
    "import google.generativeai as genai\n",
    "from vertexai.language_models import TextEmbeddingModel\n",
    "\n",
    "# 環境変数 GOOGLE_APPLICATION_CREDENTIALS を設定\n",
    "os.environ['GOOGLE_APPLICATION_CREDENTIALS'] = os.getenv(\"gac1\") # gac2でもいけた\n",
    "vertexai.init(project=os.getenv(\"gcp_project_id\"), location=\"us-central1\")\n",
    "\n",
    "# Embedding モデルをロード\n",
    "model = TextEmbeddingModel.from_pretrained(\"textembedding-gecko@latest\")\n",
    "\n",
    "# テキストを埋め込む\n",
    "texts = [\"AI is evolving.\", \"Machine learning is powerful.\"]\n",
    "embeddings = model.get_embeddings(texts)\n",
    "\n",
    "# 結果を表示\n",
    "for i, emb in enumerate(embeddings):\n",
    "    print(f\"Text {i+1}: {texts[i]}\")\n",
    "    print(f\"Embedding Vector (first 5 dims): {emb.values[:5]}\")\n"
   ]
  },
  {
   "cell_type": "code",
   "execution_count": 96,
   "metadata": {},
   "outputs": [
    {
     "ename": "PermissionDenied",
     "evalue": "403 Project gen-lang-client-0318295445 has been deleted. [reason: \"USER_PROJECT_DENIED\"\ndomain: \"googleapis.com\"\nmetadata {\n  key: \"service\"\n  value: \"aiplatform.googleapis.com\"\n}\nmetadata {\n  key: \"containerInfo\"\n  value: \"gen-lang-client-0318295445\"\n}\nmetadata {\n  key: \"consumer\"\n  value: \"projects/gen-lang-client-0318295445\"\n}\n, locale: \"en-US\"\nmessage: \"Project gen-lang-client-0318295445 has been deleted.\"\n]",
     "output_type": "error",
     "traceback": [
      "\u001b[0;31m---------------------------------------------------------------------------\u001b[0m",
      "\u001b[0;31mPermissionDenied\u001b[0m                          Traceback (most recent call last)",
      "Cell \u001b[0;32mIn[96], line 4\u001b[0m\n\u001b[1;32m      1\u001b[0m \u001b[38;5;28;01mfrom\u001b[39;00m \u001b[38;5;21;01mlangchain_google_vertexai\u001b[39;00m \u001b[38;5;28;01mimport\u001b[39;00m VertexAIEmbeddings\n\u001b[1;32m      3\u001b[0m model_name \u001b[38;5;241m=\u001b[39m \u001b[38;5;124m\"\u001b[39m\u001b[38;5;124mmultimodalembedding@latest\u001b[39m\u001b[38;5;124m\"\u001b[39m\n\u001b[0;32m----> 4\u001b[0m embeddings \u001b[38;5;241m=\u001b[39m \u001b[43mVertexAIEmbeddings\u001b[49m\u001b[43m(\u001b[49m\u001b[43mmodel_name\u001b[49m\u001b[38;5;241;43m=\u001b[39;49m\u001b[43mmodel_name\u001b[49m\u001b[43m,\u001b[49m\u001b[43m \u001b[49m\u001b[43mproject\u001b[49m\u001b[38;5;241;43m=\u001b[39;49m\u001b[38;5;124;43m\"\u001b[39;49m\u001b[38;5;124;43mmy-project-20250209-450405\u001b[39;49m\u001b[38;5;124;43m\"\u001b[39;49m\u001b[43m,\u001b[49m\u001b[43m \u001b[49m\u001b[43mlocation\u001b[49m\u001b[38;5;241;43m=\u001b[39;49m\u001b[38;5;124;43m\"\u001b[39;49m\u001b[38;5;124;43mus-central1\u001b[39;49m\u001b[38;5;124;43m\"\u001b[39;49m\u001b[43m)\u001b[49m\n\u001b[1;32m      6\u001b[0m \u001b[38;5;28mprint\u001b[39m(\u001b[38;5;124m\"\u001b[39m\u001b[38;5;124mVertex AI Embeddings initialized successfully!\u001b[39m\u001b[38;5;124m\"\u001b[39m)\n",
      "File \u001b[0;32m~/.pyenv/versions/3.10.10/envs/env_py3_10/lib/python3.10/site-packages/langchain_google_vertexai/embeddings.py:150\u001b[0m, in \u001b[0;36mVertexAIEmbeddings.__init__\u001b[0;34m(self, model_name, project, location, request_parallelism, max_retries, credentials, **kwargs)\u001b[0m\n\u001b[1;32m    148\u001b[0m \u001b[38;5;28;01mif\u001b[39;00m model_name:\n\u001b[1;32m    149\u001b[0m     kwargs[\u001b[38;5;124m\"\u001b[39m\u001b[38;5;124mmodel_name\u001b[39m\u001b[38;5;124m\"\u001b[39m] \u001b[38;5;241m=\u001b[39m model_name\n\u001b[0;32m--> 150\u001b[0m \u001b[38;5;28;43msuper\u001b[39;49m\u001b[43m(\u001b[49m\u001b[43m)\u001b[49m\u001b[38;5;241;43m.\u001b[39;49m\u001b[38;5;21;43m__init__\u001b[39;49m\u001b[43m(\u001b[49m\n\u001b[1;32m    151\u001b[0m \u001b[43m    \u001b[49m\u001b[43mproject\u001b[49m\u001b[38;5;241;43m=\u001b[39;49m\u001b[43mproject\u001b[49m\u001b[43m,\u001b[49m\n\u001b[1;32m    152\u001b[0m \u001b[43m    \u001b[49m\u001b[43mlocation\u001b[49m\u001b[38;5;241;43m=\u001b[39;49m\u001b[43mlocation\u001b[49m\u001b[43m,\u001b[49m\n\u001b[1;32m    153\u001b[0m \u001b[43m    \u001b[49m\u001b[43mcredentials\u001b[49m\u001b[38;5;241;43m=\u001b[39;49m\u001b[43mcredentials\u001b[49m\u001b[43m,\u001b[49m\n\u001b[1;32m    154\u001b[0m \u001b[43m    \u001b[49m\u001b[43mrequest_parallelism\u001b[49m\u001b[38;5;241;43m=\u001b[39;49m\u001b[43mrequest_parallelism\u001b[49m\u001b[43m,\u001b[49m\n\u001b[1;32m    155\u001b[0m \u001b[43m    \u001b[49m\u001b[43mmax_retries\u001b[49m\u001b[38;5;241;43m=\u001b[39;49m\u001b[43mmax_retries\u001b[49m\u001b[43m,\u001b[49m\n\u001b[1;32m    156\u001b[0m \u001b[43m    \u001b[49m\u001b[38;5;241;43m*\u001b[39;49m\u001b[38;5;241;43m*\u001b[39;49m\u001b[43mkwargs\u001b[49m\u001b[43m,\u001b[49m\n\u001b[1;32m    157\u001b[0m \u001b[43m\u001b[49m\u001b[43m)\u001b[49m\n\u001b[1;32m    158\u001b[0m \u001b[38;5;28mself\u001b[39m\u001b[38;5;241m.\u001b[39minstance[\u001b[38;5;124m\"\u001b[39m\u001b[38;5;124mmax_batch_size\u001b[39m\u001b[38;5;124m\"\u001b[39m] \u001b[38;5;241m=\u001b[39m kwargs\u001b[38;5;241m.\u001b[39mget(\u001b[38;5;124m\"\u001b[39m\u001b[38;5;124mmax_batch_size\u001b[39m\u001b[38;5;124m\"\u001b[39m, _MAX_BATCH_SIZE)\n\u001b[1;32m    159\u001b[0m \u001b[38;5;28mself\u001b[39m\u001b[38;5;241m.\u001b[39minstance[\u001b[38;5;124m\"\u001b[39m\u001b[38;5;124mbatch_size\u001b[39m\u001b[38;5;124m\"\u001b[39m] \u001b[38;5;241m=\u001b[39m \u001b[38;5;28mself\u001b[39m\u001b[38;5;241m.\u001b[39minstance[\u001b[38;5;124m\"\u001b[39m\u001b[38;5;124mmax_batch_size\u001b[39m\u001b[38;5;124m\"\u001b[39m]\n",
      "    \u001b[0;31m[... skipping hidden 1 frame]\u001b[0m\n",
      "File \u001b[0;32m~/.pyenv/versions/3.10.10/envs/env_py3_10/lib/python3.10/site-packages/langchain_google_vertexai/embeddings.py:132\u001b[0m, in \u001b[0;36mVertexAIEmbeddings.validate_environment\u001b[0;34m(self)\u001b[0m\n\u001b[1;32m    127\u001b[0m \u001b[38;5;28;01mwith\u001b[39;00m telemetry\u001b[38;5;241m.\u001b[39mtool_context_manager(user_agent):\n\u001b[1;32m    128\u001b[0m     \u001b[38;5;28;01mif\u001b[39;00m (\n\u001b[1;32m    129\u001b[0m         GoogleEmbeddingModelType(\u001b[38;5;28mself\u001b[39m\u001b[38;5;241m.\u001b[39mmodel_name)\n\u001b[1;32m    130\u001b[0m         \u001b[38;5;241m==\u001b[39m GoogleEmbeddingModelType\u001b[38;5;241m.\u001b[39mMULTIMODAL\n\u001b[1;32m    131\u001b[0m     ):\n\u001b[0;32m--> 132\u001b[0m         \u001b[38;5;28mself\u001b[39m\u001b[38;5;241m.\u001b[39mclient \u001b[38;5;241m=\u001b[39m \u001b[43mMultiModalEmbeddingModel\u001b[49m\u001b[38;5;241;43m.\u001b[39;49m\u001b[43mfrom_pretrained\u001b[49m\u001b[43m(\u001b[49m\u001b[38;5;28;43mself\u001b[39;49m\u001b[38;5;241;43m.\u001b[39;49m\u001b[43mmodel_name\u001b[49m\u001b[43m)\u001b[49m\n\u001b[1;32m    133\u001b[0m     \u001b[38;5;28;01melse\u001b[39;00m:\n\u001b[1;32m    134\u001b[0m         \u001b[38;5;28mself\u001b[39m\u001b[38;5;241m.\u001b[39mclient \u001b[38;5;241m=\u001b[39m TextEmbeddingModel\u001b[38;5;241m.\u001b[39mfrom_pretrained(\u001b[38;5;28mself\u001b[39m\u001b[38;5;241m.\u001b[39mmodel_name)\n",
      "File \u001b[0;32m~/.pyenv/versions/3.10.10/envs/env_py3_10/lib/python3.10/site-packages/vertexai/_model_garden/_model_garden_models.py:289\u001b[0m, in \u001b[0;36m_ModelGardenModel.from_pretrained\u001b[0;34m(cls, model_name)\u001b[0m\n\u001b[1;32m    278\u001b[0m credential_exception_str \u001b[38;5;241m=\u001b[39m (\n\u001b[1;32m    279\u001b[0m     \u001b[38;5;124m\"\u001b[39m\u001b[38;5;130;01m\\n\u001b[39;00m\u001b[38;5;124mUnable to authenticate your request.\u001b[39m\u001b[38;5;124m\"\u001b[39m\n\u001b[1;32m    280\u001b[0m     \u001b[38;5;124m\"\u001b[39m\u001b[38;5;130;01m\\n\u001b[39;00m\u001b[38;5;124mDepending on your runtime environment, you can complete authentication by:\u001b[39m\u001b[38;5;124m\"\u001b[39m\n\u001b[0;32m   (...)\u001b[0m\n\u001b[1;32m    285\u001b[0m     \u001b[38;5;124m\"\u001b[39m\u001b[38;5;130;01m\\n\u001b[39;00m\u001b[38;5;124m- if in service account or other: please follow guidance in https://cloud.google.com/docs/authentication\u001b[39m\u001b[38;5;124m\"\u001b[39m\n\u001b[1;32m    286\u001b[0m )\n\u001b[1;32m    288\u001b[0m \u001b[38;5;28;01mtry\u001b[39;00m:\n\u001b[0;32m--> 289\u001b[0m     \u001b[38;5;28;01mreturn\u001b[39;00m \u001b[43m_from_pretrained\u001b[49m\u001b[43m(\u001b[49m\u001b[43minterface_class\u001b[49m\u001b[38;5;241;43m=\u001b[39;49m\u001b[38;5;28;43mcls\u001b[39;49m\u001b[43m,\u001b[49m\u001b[43m \u001b[49m\u001b[43mmodel_name\u001b[49m\u001b[38;5;241;43m=\u001b[39;49m\u001b[43mmodel_name\u001b[49m\u001b[43m)\u001b[49m\n\u001b[1;32m    290\u001b[0m \u001b[38;5;28;01mexcept\u001b[39;00m auth_exceptions\u001b[38;5;241m.\u001b[39mGoogleAuthError \u001b[38;5;28;01mas\u001b[39;00m e:\n\u001b[1;32m    291\u001b[0m     \u001b[38;5;28;01mraise\u001b[39;00m auth_exceptions\u001b[38;5;241m.\u001b[39mGoogleAuthError(credential_exception_str) \u001b[38;5;28;01mfrom\u001b[39;00m \u001b[38;5;21;01me\u001b[39;00m\n",
      "File \u001b[0;32m~/.pyenv/versions/3.10.10/envs/env_py3_10/lib/python3.10/site-packages/vertexai/_model_garden/_model_garden_models.py:206\u001b[0m, in \u001b[0;36m_from_pretrained\u001b[0;34m(interface_class, model_name, publisher_model, tuned_vertex_model)\u001b[0m\n\u001b[1;32m    201\u001b[0m     \u001b[38;5;28;01mif\u001b[39;00m \u001b[38;5;129;01mnot\u001b[39;00m interface_class\u001b[38;5;241m.\u001b[39m_INSTANCE_SCHEMA_URI:\n\u001b[1;32m    202\u001b[0m         \u001b[38;5;28;01mraise\u001b[39;00m \u001b[38;5;167;01mValueError\u001b[39;00m(\n\u001b[1;32m    203\u001b[0m             \u001b[38;5;124mf\u001b[39m\u001b[38;5;124m\"\u001b[39m\u001b[38;5;124mClass \u001b[39m\u001b[38;5;132;01m{\u001b[39;00minterface_class\u001b[38;5;132;01m}\u001b[39;00m\u001b[38;5;124m is not a correct model interface class since it does not have an instance schema URI.\u001b[39m\u001b[38;5;124m\"\u001b[39m\n\u001b[1;32m    204\u001b[0m         )\n\u001b[0;32m--> 206\u001b[0m     model_info \u001b[38;5;241m=\u001b[39m \u001b[43m_get_model_info\u001b[49m\u001b[43m(\u001b[49m\n\u001b[1;32m    207\u001b[0m \u001b[43m        \u001b[49m\u001b[43mmodel_id\u001b[49m\u001b[38;5;241;43m=\u001b[39;49m\u001b[43mmodel_name\u001b[49m\u001b[43m,\u001b[49m\n\u001b[1;32m    208\u001b[0m \u001b[43m        \u001b[49m\u001b[43mschema_to_class_map\u001b[49m\u001b[38;5;241;43m=\u001b[39;49m\u001b[43m{\u001b[49m\u001b[43minterface_class\u001b[49m\u001b[38;5;241;43m.\u001b[39;49m\u001b[43m_INSTANCE_SCHEMA_URI\u001b[49m\u001b[43m:\u001b[49m\u001b[43m \u001b[49m\u001b[43minterface_class\u001b[49m\u001b[43m}\u001b[49m\u001b[43m,\u001b[49m\n\u001b[1;32m    209\u001b[0m \u001b[43m    \u001b[49m\u001b[43m)\u001b[49m\n\u001b[1;32m    211\u001b[0m \u001b[38;5;28;01melse\u001b[39;00m:\n\u001b[1;32m    212\u001b[0m     schema_uri \u001b[38;5;241m=\u001b[39m publisher_model\u001b[38;5;241m.\u001b[39m_gca_resource\u001b[38;5;241m.\u001b[39mpredict_schemata\u001b[38;5;241m.\u001b[39minstance_schema_uri\n",
      "File \u001b[0;32m~/.pyenv/versions/3.10.10/envs/env_py3_10/lib/python3.10/site-packages/vertexai/_model_garden/_model_garden_models.py:122\u001b[0m, in \u001b[0;36m_get_model_info\u001b[0;34m(model_id, schema_to_class_map, interface_class, publisher_model_res, tuned_vertex_model)\u001b[0m\n\u001b[1;32m    118\u001b[0m     model_id \u001b[38;5;241m=\u001b[39m \u001b[38;5;124m\"\u001b[39m\u001b[38;5;124mpublishers/google/models/\u001b[39m\u001b[38;5;124m\"\u001b[39m \u001b[38;5;241m+\u001b[39m model_id\n\u001b[1;32m    120\u001b[0m \u001b[38;5;28;01mif\u001b[39;00m \u001b[38;5;129;01mnot\u001b[39;00m publisher_model_res:\n\u001b[1;32m    121\u001b[0m     publisher_model_res \u001b[38;5;241m=\u001b[39m (\n\u001b[0;32m--> 122\u001b[0m         \u001b[43m_publisher_models\u001b[49m\u001b[38;5;241;43m.\u001b[39;49m\u001b[43m_PublisherModel\u001b[49m\u001b[43m(\u001b[49m\u001b[43m  \u001b[49m\u001b[38;5;66;43;03m# pylint: disable=protected-access\u001b[39;49;00m\n\u001b[1;32m    123\u001b[0m \u001b[43m            \u001b[49m\u001b[43mresource_name\u001b[49m\u001b[38;5;241;43m=\u001b[39;49m\u001b[43mmodel_id\u001b[49m\n\u001b[1;32m    124\u001b[0m \u001b[43m        \u001b[49m\u001b[43m)\u001b[49m\u001b[38;5;241m.\u001b[39m_gca_resource\n\u001b[1;32m    125\u001b[0m     )\n\u001b[1;32m    127\u001b[0m \u001b[38;5;28;01mif\u001b[39;00m \u001b[38;5;129;01mnot\u001b[39;00m publisher_model_res\u001b[38;5;241m.\u001b[39mname\u001b[38;5;241m.\u001b[39mstartswith(\u001b[38;5;124m\"\u001b[39m\u001b[38;5;124mpublishers/google/models/\u001b[39m\u001b[38;5;124m\"\u001b[39m):\n\u001b[1;32m    128\u001b[0m     \u001b[38;5;28;01mraise\u001b[39;00m \u001b[38;5;167;01mValueError\u001b[39;00m(\n\u001b[1;32m    129\u001b[0m         \u001b[38;5;124mf\u001b[39m\u001b[38;5;124m\"\u001b[39m\u001b[38;5;124mOnly Google models are currently supported. \u001b[39m\u001b[38;5;132;01m{\u001b[39;00mpublisher_model_res\u001b[38;5;241m.\u001b[39mname\u001b[38;5;132;01m}\u001b[39;00m\u001b[38;5;124m\"\u001b[39m\n\u001b[1;32m    130\u001b[0m     )\n",
      "File \u001b[0;32m~/.pyenv/versions/3.10.10/envs/env_py3_10/lib/python3.10/site-packages/google/cloud/aiplatform/_publisher_models.py:77\u001b[0m, in \u001b[0;36m_PublisherModel.__init__\u001b[0;34m(self, resource_name, project, location, credentials)\u001b[0m\n\u001b[1;32m     71\u001b[0m     \u001b[38;5;28;01melse\u001b[39;00m:\n\u001b[1;32m     72\u001b[0m         \u001b[38;5;28;01mraise\u001b[39;00m \u001b[38;5;167;01mValueError\u001b[39;00m(\n\u001b[1;32m     73\u001b[0m             \u001b[38;5;124mf\u001b[39m\u001b[38;5;124m\"\u001b[39m\u001b[38;5;124m`\u001b[39m\u001b[38;5;132;01m{\u001b[39;00mresource_name\u001b[38;5;132;01m}\u001b[39;00m\u001b[38;5;124m` is not a valid PublisherModel resource \u001b[39m\u001b[38;5;124m\"\u001b[39m\n\u001b[1;32m     74\u001b[0m             \u001b[38;5;124m\"\u001b[39m\u001b[38;5;124mname or model garden id.\u001b[39m\u001b[38;5;124m\"\u001b[39m\n\u001b[1;32m     75\u001b[0m         )\n\u001b[0;32m---> 77\u001b[0m \u001b[38;5;28mself\u001b[39m\u001b[38;5;241m.\u001b[39m_gca_resource \u001b[38;5;241m=\u001b[39m \u001b[38;5;28;43mgetattr\u001b[39;49m\u001b[43m(\u001b[49m\u001b[38;5;28;43mself\u001b[39;49m\u001b[38;5;241;43m.\u001b[39;49m\u001b[43mapi_client\u001b[49m\u001b[43m,\u001b[49m\u001b[43m \u001b[49m\u001b[38;5;28;43mself\u001b[39;49m\u001b[38;5;241;43m.\u001b[39;49m\u001b[43m_getter_method\u001b[49m\u001b[43m)\u001b[49m\u001b[43m(\u001b[49m\n\u001b[1;32m     78\u001b[0m \u001b[43m    \u001b[49m\u001b[43mname\u001b[49m\u001b[38;5;241;43m=\u001b[39;49m\u001b[43mfull_resource_name\u001b[49m\u001b[43m,\u001b[49m\u001b[43m \u001b[49m\u001b[43mretry\u001b[49m\u001b[38;5;241;43m=\u001b[39;49m\u001b[43mbase\u001b[49m\u001b[38;5;241;43m.\u001b[39;49m\u001b[43m_DEFAULT_RETRY\u001b[49m\n\u001b[1;32m     79\u001b[0m \u001b[43m\u001b[49m\u001b[43m)\u001b[49m\n",
      "File \u001b[0;32m~/.pyenv/versions/3.10.10/envs/env_py3_10/lib/python3.10/site-packages/google/cloud/aiplatform_v1/services/model_garden_service/client.py:839\u001b[0m, in \u001b[0;36mModelGardenServiceClient.get_publisher_model\u001b[0;34m(self, request, name, retry, timeout, metadata)\u001b[0m\n\u001b[1;32m    836\u001b[0m \u001b[38;5;28mself\u001b[39m\u001b[38;5;241m.\u001b[39m_validate_universe_domain()\n\u001b[1;32m    838\u001b[0m \u001b[38;5;66;03m# Send the request.\u001b[39;00m\n\u001b[0;32m--> 839\u001b[0m response \u001b[38;5;241m=\u001b[39m \u001b[43mrpc\u001b[49m\u001b[43m(\u001b[49m\n\u001b[1;32m    840\u001b[0m \u001b[43m    \u001b[49m\u001b[43mrequest\u001b[49m\u001b[43m,\u001b[49m\n\u001b[1;32m    841\u001b[0m \u001b[43m    \u001b[49m\u001b[43mretry\u001b[49m\u001b[38;5;241;43m=\u001b[39;49m\u001b[43mretry\u001b[49m\u001b[43m,\u001b[49m\n\u001b[1;32m    842\u001b[0m \u001b[43m    \u001b[49m\u001b[43mtimeout\u001b[49m\u001b[38;5;241;43m=\u001b[39;49m\u001b[43mtimeout\u001b[49m\u001b[43m,\u001b[49m\n\u001b[1;32m    843\u001b[0m \u001b[43m    \u001b[49m\u001b[43mmetadata\u001b[49m\u001b[38;5;241;43m=\u001b[39;49m\u001b[43mmetadata\u001b[49m\u001b[43m,\u001b[49m\n\u001b[1;32m    844\u001b[0m \u001b[43m\u001b[49m\u001b[43m)\u001b[49m\n\u001b[1;32m    846\u001b[0m \u001b[38;5;66;03m# Done; return the response.\u001b[39;00m\n\u001b[1;32m    847\u001b[0m \u001b[38;5;28;01mreturn\u001b[39;00m response\n",
      "File \u001b[0;32m~/.pyenv/versions/3.10.10/envs/env_py3_10/lib/python3.10/site-packages/google/api_core/gapic_v1/method.py:131\u001b[0m, in \u001b[0;36m_GapicCallable.__call__\u001b[0;34m(self, timeout, retry, compression, *args, **kwargs)\u001b[0m\n\u001b[1;32m    128\u001b[0m \u001b[38;5;28;01mif\u001b[39;00m \u001b[38;5;28mself\u001b[39m\u001b[38;5;241m.\u001b[39m_compression \u001b[38;5;129;01mis\u001b[39;00m \u001b[38;5;129;01mnot\u001b[39;00m \u001b[38;5;28;01mNone\u001b[39;00m:\n\u001b[1;32m    129\u001b[0m     kwargs[\u001b[38;5;124m\"\u001b[39m\u001b[38;5;124mcompression\u001b[39m\u001b[38;5;124m\"\u001b[39m] \u001b[38;5;241m=\u001b[39m compression\n\u001b[0;32m--> 131\u001b[0m \u001b[38;5;28;01mreturn\u001b[39;00m \u001b[43mwrapped_func\u001b[49m\u001b[43m(\u001b[49m\u001b[38;5;241;43m*\u001b[39;49m\u001b[43margs\u001b[49m\u001b[43m,\u001b[49m\u001b[43m \u001b[49m\u001b[38;5;241;43m*\u001b[39;49m\u001b[38;5;241;43m*\u001b[39;49m\u001b[43mkwargs\u001b[49m\u001b[43m)\u001b[49m\n",
      "File \u001b[0;32m~/.pyenv/versions/3.10.10/envs/env_py3_10/lib/python3.10/site-packages/google/api_core/retry/retry_unary.py:293\u001b[0m, in \u001b[0;36mRetry.__call__.<locals>.retry_wrapped_func\u001b[0;34m(*args, **kwargs)\u001b[0m\n\u001b[1;32m    289\u001b[0m target \u001b[38;5;241m=\u001b[39m functools\u001b[38;5;241m.\u001b[39mpartial(func, \u001b[38;5;241m*\u001b[39margs, \u001b[38;5;241m*\u001b[39m\u001b[38;5;241m*\u001b[39mkwargs)\n\u001b[1;32m    290\u001b[0m sleep_generator \u001b[38;5;241m=\u001b[39m exponential_sleep_generator(\n\u001b[1;32m    291\u001b[0m     \u001b[38;5;28mself\u001b[39m\u001b[38;5;241m.\u001b[39m_initial, \u001b[38;5;28mself\u001b[39m\u001b[38;5;241m.\u001b[39m_maximum, multiplier\u001b[38;5;241m=\u001b[39m\u001b[38;5;28mself\u001b[39m\u001b[38;5;241m.\u001b[39m_multiplier\n\u001b[1;32m    292\u001b[0m )\n\u001b[0;32m--> 293\u001b[0m \u001b[38;5;28;01mreturn\u001b[39;00m \u001b[43mretry_target\u001b[49m\u001b[43m(\u001b[49m\n\u001b[1;32m    294\u001b[0m \u001b[43m    \u001b[49m\u001b[43mtarget\u001b[49m\u001b[43m,\u001b[49m\n\u001b[1;32m    295\u001b[0m \u001b[43m    \u001b[49m\u001b[38;5;28;43mself\u001b[39;49m\u001b[38;5;241;43m.\u001b[39;49m\u001b[43m_predicate\u001b[49m\u001b[43m,\u001b[49m\n\u001b[1;32m    296\u001b[0m \u001b[43m    \u001b[49m\u001b[43msleep_generator\u001b[49m\u001b[43m,\u001b[49m\n\u001b[1;32m    297\u001b[0m \u001b[43m    \u001b[49m\u001b[43mtimeout\u001b[49m\u001b[38;5;241;43m=\u001b[39;49m\u001b[38;5;28;43mself\u001b[39;49m\u001b[38;5;241;43m.\u001b[39;49m\u001b[43m_timeout\u001b[49m\u001b[43m,\u001b[49m\n\u001b[1;32m    298\u001b[0m \u001b[43m    \u001b[49m\u001b[43mon_error\u001b[49m\u001b[38;5;241;43m=\u001b[39;49m\u001b[43mon_error\u001b[49m\u001b[43m,\u001b[49m\n\u001b[1;32m    299\u001b[0m \u001b[43m\u001b[49m\u001b[43m)\u001b[49m\n",
      "File \u001b[0;32m~/.pyenv/versions/3.10.10/envs/env_py3_10/lib/python3.10/site-packages/google/api_core/retry/retry_unary.py:153\u001b[0m, in \u001b[0;36mretry_target\u001b[0;34m(target, predicate, sleep_generator, timeout, on_error, exception_factory, **kwargs)\u001b[0m\n\u001b[1;32m    149\u001b[0m \u001b[38;5;66;03m# pylint: disable=broad-except\u001b[39;00m\n\u001b[1;32m    150\u001b[0m \u001b[38;5;66;03m# This function explicitly must deal with broad exceptions.\u001b[39;00m\n\u001b[1;32m    151\u001b[0m \u001b[38;5;28;01mexcept\u001b[39;00m \u001b[38;5;167;01mException\u001b[39;00m \u001b[38;5;28;01mas\u001b[39;00m exc:\n\u001b[1;32m    152\u001b[0m     \u001b[38;5;66;03m# defer to shared logic for handling errors\u001b[39;00m\n\u001b[0;32m--> 153\u001b[0m     \u001b[43m_retry_error_helper\u001b[49m\u001b[43m(\u001b[49m\n\u001b[1;32m    154\u001b[0m \u001b[43m        \u001b[49m\u001b[43mexc\u001b[49m\u001b[43m,\u001b[49m\n\u001b[1;32m    155\u001b[0m \u001b[43m        \u001b[49m\u001b[43mdeadline\u001b[49m\u001b[43m,\u001b[49m\n\u001b[1;32m    156\u001b[0m \u001b[43m        \u001b[49m\u001b[43msleep\u001b[49m\u001b[43m,\u001b[49m\n\u001b[1;32m    157\u001b[0m \u001b[43m        \u001b[49m\u001b[43merror_list\u001b[49m\u001b[43m,\u001b[49m\n\u001b[1;32m    158\u001b[0m \u001b[43m        \u001b[49m\u001b[43mpredicate\u001b[49m\u001b[43m,\u001b[49m\n\u001b[1;32m    159\u001b[0m \u001b[43m        \u001b[49m\u001b[43mon_error\u001b[49m\u001b[43m,\u001b[49m\n\u001b[1;32m    160\u001b[0m \u001b[43m        \u001b[49m\u001b[43mexception_factory\u001b[49m\u001b[43m,\u001b[49m\n\u001b[1;32m    161\u001b[0m \u001b[43m        \u001b[49m\u001b[43mtimeout\u001b[49m\u001b[43m,\u001b[49m\n\u001b[1;32m    162\u001b[0m \u001b[43m    \u001b[49m\u001b[43m)\u001b[49m\n\u001b[1;32m    163\u001b[0m     \u001b[38;5;66;03m# if exception not raised, sleep before next attempt\u001b[39;00m\n\u001b[1;32m    164\u001b[0m     time\u001b[38;5;241m.\u001b[39msleep(sleep)\n",
      "File \u001b[0;32m~/.pyenv/versions/3.10.10/envs/env_py3_10/lib/python3.10/site-packages/google/api_core/retry/retry_base.py:212\u001b[0m, in \u001b[0;36m_retry_error_helper\u001b[0;34m(exc, deadline, next_sleep, error_list, predicate_fn, on_error_fn, exc_factory_fn, original_timeout)\u001b[0m\n\u001b[1;32m    206\u001b[0m \u001b[38;5;28;01mif\u001b[39;00m \u001b[38;5;129;01mnot\u001b[39;00m predicate_fn(exc):\n\u001b[1;32m    207\u001b[0m     final_exc, source_exc \u001b[38;5;241m=\u001b[39m exc_factory_fn(\n\u001b[1;32m    208\u001b[0m         error_list,\n\u001b[1;32m    209\u001b[0m         RetryFailureReason\u001b[38;5;241m.\u001b[39mNON_RETRYABLE_ERROR,\n\u001b[1;32m    210\u001b[0m         original_timeout,\n\u001b[1;32m    211\u001b[0m     )\n\u001b[0;32m--> 212\u001b[0m     \u001b[38;5;28;01mraise\u001b[39;00m final_exc \u001b[38;5;28;01mfrom\u001b[39;00m \u001b[38;5;21;01msource_exc\u001b[39;00m\n\u001b[1;32m    213\u001b[0m \u001b[38;5;28;01mif\u001b[39;00m on_error_fn \u001b[38;5;129;01mis\u001b[39;00m \u001b[38;5;129;01mnot\u001b[39;00m \u001b[38;5;28;01mNone\u001b[39;00m:\n\u001b[1;32m    214\u001b[0m     on_error_fn(exc)\n",
      "File \u001b[0;32m~/.pyenv/versions/3.10.10/envs/env_py3_10/lib/python3.10/site-packages/google/api_core/retry/retry_unary.py:144\u001b[0m, in \u001b[0;36mretry_target\u001b[0;34m(target, predicate, sleep_generator, timeout, on_error, exception_factory, **kwargs)\u001b[0m\n\u001b[1;32m    142\u001b[0m \u001b[38;5;28;01mfor\u001b[39;00m sleep \u001b[38;5;129;01min\u001b[39;00m sleep_generator:\n\u001b[1;32m    143\u001b[0m     \u001b[38;5;28;01mtry\u001b[39;00m:\n\u001b[0;32m--> 144\u001b[0m         result \u001b[38;5;241m=\u001b[39m \u001b[43mtarget\u001b[49m\u001b[43m(\u001b[49m\u001b[43m)\u001b[49m\n\u001b[1;32m    145\u001b[0m         \u001b[38;5;28;01mif\u001b[39;00m inspect\u001b[38;5;241m.\u001b[39misawaitable(result):\n\u001b[1;32m    146\u001b[0m             warnings\u001b[38;5;241m.\u001b[39mwarn(_ASYNC_RETRY_WARNING)\n",
      "File \u001b[0;32m~/.pyenv/versions/3.10.10/envs/env_py3_10/lib/python3.10/site-packages/google/api_core/grpc_helpers.py:78\u001b[0m, in \u001b[0;36m_wrap_unary_errors.<locals>.error_remapped_callable\u001b[0;34m(*args, **kwargs)\u001b[0m\n\u001b[1;32m     76\u001b[0m     \u001b[38;5;28;01mreturn\u001b[39;00m callable_(\u001b[38;5;241m*\u001b[39margs, \u001b[38;5;241m*\u001b[39m\u001b[38;5;241m*\u001b[39mkwargs)\n\u001b[1;32m     77\u001b[0m \u001b[38;5;28;01mexcept\u001b[39;00m grpc\u001b[38;5;241m.\u001b[39mRpcError \u001b[38;5;28;01mas\u001b[39;00m exc:\n\u001b[0;32m---> 78\u001b[0m     \u001b[38;5;28;01mraise\u001b[39;00m exceptions\u001b[38;5;241m.\u001b[39mfrom_grpc_error(exc) \u001b[38;5;28;01mfrom\u001b[39;00m \u001b[38;5;21;01mexc\u001b[39;00m\n",
      "\u001b[0;31mPermissionDenied\u001b[0m: 403 Project gen-lang-client-0318295445 has been deleted. [reason: \"USER_PROJECT_DENIED\"\ndomain: \"googleapis.com\"\nmetadata {\n  key: \"service\"\n  value: \"aiplatform.googleapis.com\"\n}\nmetadata {\n  key: \"containerInfo\"\n  value: \"gen-lang-client-0318295445\"\n}\nmetadata {\n  key: \"consumer\"\n  value: \"projects/gen-lang-client-0318295445\"\n}\n, locale: \"en-US\"\nmessage: \"Project gen-lang-client-0318295445 has been deleted.\"\n]"
     ]
    }
   ],
   "source": [
    "from langchain_google_vertexai import VertexAIEmbeddings\n",
    "\n",
    "model_name = \"multimodalembedding@latest\"\n",
    "embeddings = VertexAIEmbeddings(model_name=model_name, project=\"my-project-20250209-450405\", location=\"us-central1\")\n",
    "\n",
    "print(\"Vertex AI Embeddings initialized successfully!\")\n",
    "\n"
   ]
  },
  {
   "cell_type": "code",
   "execution_count": null,
   "metadata": {},
   "outputs": [],
   "source": [
    "# load embedding model\n",
    "from langchain_google_vertexai import VertexAIEmbeddings\n",
    "\n",
    "model_name = \"multimodalembedding@latest\"\n",
    "embeddings = VertexAIEmbeddings(model_name=model_name, project=os.getenv(\"gcp_project_id\"))\n",
    "\n",
    "# convert pdf_elements to langchain documents\n",
    "from langchain.schema import Document\n",
    "documents = [Document(page_content=el.text, metadata={'source': fileitem}) for el in pdf_elements]\n",
    "\n",
    "# create vectorstore\n",
    "from langchain.vectorstores import Chroma\n",
    "vectorstore = Chroma.from_documents(documents, embeddings)\n",
    "\n",
    "# retriever\n",
    "retriever = vectorstore.as_retriever()\n",
    "\n",
    "llm = gemini # response = gemini.generate_content(prompt), response.text"
   ]
  },
  {
   "cell_type": "code",
   "execution_count": null,
   "metadata": {},
   "outputs": [],
   "source": [
    "# create document chain\n",
    "from langchain.prompts import ChatPromptTemplate\n",
    "from langchain.schema.runnable import RunnablePassthrough\n",
    "from langchain.schema.output_parser import StrOutputParser\n",
    "\n",
    "template = \"\"\"\"\n",
    "You are a helpful assistant that answers questions based on the provided context, which can include text and tables.\n",
    "Use the provided context to answer the question.\n",
    "Question: {input}\n",
    "Context: {context}\n",
    "Answer:\n",
    "\"\"\"\n",
    "prompt = ChatPromptTemplate.from_template(template)\n",
    "\n",
    "# Setup RAG pipeline\n",
    "rag_chain = (\n",
    "    {\"context\": retriever,  \"input\": RunnablePassthrough()}\n",
    "    | prompt\n",
    "    | llm\n",
    "    | StrOutputParser()\n",
    ")"
   ]
  },
  {
   "cell_type": "code",
   "execution_count": null,
   "metadata": {},
   "outputs": [],
   "source": [
    "# response\n",
    "response = rag_chain.invoke(\"Compare all the Training Results on MATH Test Set\")\n",
    "response"
   ]
  }
 ],
 "metadata": {
  "kernelspec": {
   "display_name": "env_py3_10",
   "language": "python",
   "name": "python3"
  },
  "language_info": {
   "codemirror_mode": {
    "name": "ipython",
    "version": 3
   },
   "file_extension": ".py",
   "mimetype": "text/x-python",
   "name": "python",
   "nbconvert_exporter": "python",
   "pygments_lexer": "ipython3",
   "version": "3.10.10"
  }
 },
 "nbformat": 4,
 "nbformat_minor": 2
}
