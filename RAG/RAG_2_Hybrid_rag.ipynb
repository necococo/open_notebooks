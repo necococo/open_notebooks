{
  "nbformat": 4,
  "nbformat_minor": 0,
  "metadata": {
    "colab": {
      "provenance": [],
      "toc_visible": true
    },
    "kernelspec": {
      "name": "python3",
      "display_name": "Python 3"
    },
    "language_info": {
      "name": "python"
    }
  },
  "cells": [
    {
      "cell_type": "markdown",
      "source": [
        "# https://github.com/athina-ai/rag-cookbooks を元に8種類のRAGと5種類のAgenticRAGについて学ぶ 2/13"
      ],
      "metadata": {
        "id": "uJ4bpXaW2-IN"
      }
    },
    {
      "cell_type": "markdown",
      "source": [
        "# Hybrid RAG\n",
        "ハイブリッドRAGとは、ベクトル類似性検索と全文検索やBM25のような従来の検索手法を組み合わせた高度な検索手法のことである。このアプローチは、意味理解のためのベクトル類似性と、正確なキーワードやテキストベースのマッチングのための伝統的な手法、両方の長所を活用することで、より包括的で柔軟な情報検索を可能にする。\n",
        "\n",
        "論文: [paper1](https://arxiv.org/pdf/2408.05141) and [paper2](https://arxiv.org/pdf/2408.04948)"
      ],
      "metadata": {
        "id": "IvmaYNFTS1LC"
      }
    },
    {
      "cell_type": "markdown",
      "source": [
        "# Environment building"
      ],
      "metadata": {
        "id": "RFsSvEe82B8i"
      }
    },
    {
      "cell_type": "code",
      "source": [
        "!pip install -qq -U  langchain-openai langchain-community chromadb rank_bm25"
      ],
      "metadata": {
        "collapsed": true,
        "id": "TsF9lN1shvbe"
      },
      "execution_count": 1,
      "outputs": []
    },
    {
      "cell_type": "code",
      "source": [
        "from google.colab import drive\n",
        "drive.mount('/content/drive')"
      ],
      "metadata": {
        "colab": {
          "base_uri": "https://localhost:8080/"
        },
        "id": "_D43qNQjGt5i",
        "outputId": "0d11cf57-3e89-46d7-825d-e0e48f0f94fd"
      },
      "execution_count": 2,
      "outputs": [
        {
          "output_type": "stream",
          "name": "stdout",
          "text": [
            "Drive already mounted at /content/drive; to attempt to forcibly remount, call drive.mount(\"/content/drive\", force_remount=True).\n"
          ]
        }
      ]
    },
    {
      "cell_type": "markdown",
      "source": [
        "# Indexing"
      ],
      "metadata": {
        "id": "Q3tnHQJ_JQkL"
      }
    },
    {
      "cell_type": "code",
      "source": [
        "import os\n",
        "from google.colab import userdata\n",
        "os.environ[\"OPENAI_API_KEY\"] = userdata.get(\"OPENAI_API_KEY\")\n",
        "os.environ['ATHINA_API_KEY'] = userdata.get('ATHINA_API_KEY')\n",
        "# os.environ['PINECONE_API_KEY'] = userdata.get('PINECONE_API_KEY')"
      ],
      "metadata": {
        "id": "hzLjc8PgD1-I"
      },
      "execution_count": 3,
      "outputs": []
    },
    {
      "cell_type": "code",
      "source": [
        "# load embedding model\n",
        "from langchain_openai import OpenAIEmbeddings\n",
        "embeddings = OpenAIEmbeddings()"
      ],
      "metadata": {
        "id": "ldqbxE6fKiNP"
      },
      "execution_count": 4,
      "outputs": []
    },
    {
      "cell_type": "code",
      "source": [
        "# load data\n",
        "from langchain.document_loaders import CSVLoader\n",
        "loader = CSVLoader(\"/content/drive/MyDrive/Colab Notebooks/rag-cookbooks-copy/data/context.csv\")\n",
        "documents = loader.load()"
      ],
      "metadata": {
        "id": "clhsZj0IHneQ"
      },
      "execution_count": 5,
      "outputs": []
    },
    {
      "cell_type": "code",
      "source": [
        "# split documents\n",
        "from langchain.text_splitter import RecursiveCharacterTextSplitter\n",
        "text_splitter = RecursiveCharacterTextSplitter(chunk_size=500, chunk_overlap=0)\n",
        "documents = text_splitter.split_documents(documents)"
      ],
      "metadata": {
        "id": "xjXrp_DEIm17"
      },
      "execution_count": 6,
      "outputs": []
    },
    {
      "cell_type": "code",
      "source": [
        "# create vectorstore\n",
        "from langchain.vectorstores import Chroma\n",
        "vectorstore = Chroma.from_documents(documents, embeddings)"
      ],
      "metadata": {
        "id": "yu-pwIOkKfHk"
      },
      "execution_count": 7,
      "outputs": []
    },
    {
      "cell_type": "markdown",
      "source": [
        "# Retriever"
      ],
      "metadata": {
        "id": "kDgv0WMnJo7a"
      }
    },
    {
      "cell_type": "code",
      "source": [
        "# create retriever\n",
        "retriever = vectorstore.as_retriever()"
      ],
      "metadata": {
        "id": "HfL8s1DxQf2a"
      },
      "execution_count": 8,
      "outputs": []
    },
    {
      "cell_type": "markdown",
      "source": [
        "# Keyword Retriever"
      ],
      "metadata": {
        "id": "Gef3pORaLYkn"
      }
    },
    {
      "cell_type": "code",
      "source": [
        "# create keyword retriever\n",
        "from langchain.retrievers import BM25Retriever\n",
        "keyword_retriever = BM25Retriever.from_documents(documents)\n",
        "keyword_retriever.k = 3"
      ],
      "metadata": {
        "id": "ayElkH31LpPN"
      },
      "execution_count": 9,
      "outputs": []
    },
    {
      "cell_type": "code",
      "source": [
        "# test keyword retriever\n",
        "keyword_retriever.get_relevant_documents(\"what bacteria grow on macconkey agar\")"
      ],
      "metadata": {
        "colab": {
          "base_uri": "https://localhost:8080/"
        },
        "id": "BMOwZk7ZLira",
        "outputId": "60a3c027-e018-41a0-867d-b3cde12a9cc0"
      },
      "execution_count": 10,
      "outputs": [
        {
          "output_type": "stream",
          "name": "stderr",
          "text": [
            "<ipython-input-10-5b9946a99a06>:2: LangChainDeprecationWarning: The method `BaseRetriever.get_relevant_documents` was deprecated in langchain-core 0.1.46 and will be removed in 1.0. Use :meth:`~invoke` instead.\n",
            "  keyword_retriever.get_relevant_documents(\"what bacteria grow on macconkey agar\")\n"
          ]
        },
        {
          "output_type": "execute_result",
          "data": {
            "text/plain": [
              "[Document(metadata={'source': '/content/drive/MyDrive/Colab Notebooks/rag-cookbooks-copy/data/context.csv', 'row': 6}, page_content='predominantly made from the lactose sugar in the agar.\\\\n\\\\n\\\\n== Variant ==\\\\nA variant, sorbitol-MacConkey agar, (with the addition of additional selective agents) can assist in the isolation and differentiation of enterohemorrhagic E. coli serotype E. coli O157:H7, by the presence of colorless circular colonies that are non-sorbitol fermenting.\\\\n\\\\n\\\\n== See also ==\\\\nR2a agar\\\\nMRS agar (culture medium designed to grow Gram-positive bacteria and differentiate them for lactose fermentation).\\\\n\\\\n\\\\n=='),\n",
              " Document(metadata={'source': '/content/drive/MyDrive/Colab Notebooks/rag-cookbooks-copy/data/context.csv', 'row': 37}, page_content='zoonotic disease since around 1910, but in the 1930s knowledge was gained that the bacteria lost their virulent power when repeatedly spread on agar media. This explained the difficulties to reproduce results from different studies as the pre-inoculating handlings of the bacteria were not standardized among scientists.Today it is established that at least some primate species are highly susceptible to B. pertussis and develop clinical whooping cough in high incidence when exposed to low'),\n",
              " Document(metadata={'source': '/content/drive/MyDrive/Colab Notebooks/rag-cookbooks-copy/data/context.csv', 'row': 6}, page_content=\"context: ['MacConkey agar is a selective and differential culture medium for bacteria. It is designed to selectively isolate Gram-negative and enteric (normally found in the intestinal tract) bacteria and differentiate them based on lactose fermentation. Lactose fermenters turn red or pink on MacConkey agar, and nonfermenters do not change color. The media inhibits growth of Gram-positive organisms with crystal violet and bile salts, allowing for the selection and isolation of gram-negative\")]"
            ]
          },
          "metadata": {},
          "execution_count": 10
        }
      ]
    },
    {
      "cell_type": "markdown",
      "source": [
        "# Ensamble Retriever"
      ],
      "metadata": {
        "id": "GIx7Fi7ULdhi"
      }
    },
    {
      "cell_type": "code",
      "source": [
        "# create ensemble retriever\n",
        "from langchain.retrievers import EnsembleRetriever\n",
        "ensemble_retriever = EnsembleRetriever(retrievers=[retriever, keyword_retriever], weights=[0.5, 0.5])"
      ],
      "metadata": {
        "id": "Ue9w46T-Mh1K"
      },
      "execution_count": 11,
      "outputs": []
    },
    {
      "cell_type": "code",
      "source": [
        "# test emsemble retriever\n",
        "ensemble_retriever.get_relevant_documents(\"what bacteria grow on macconkey agar\")"
      ],
      "metadata": {
        "colab": {
          "base_uri": "https://localhost:8080/"
        },
        "id": "Ggu1aM3zM-C7",
        "outputId": "3d006eb1-044f-4af3-814b-7982720c450f"
      },
      "execution_count": 12,
      "outputs": [
        {
          "output_type": "execute_result",
          "data": {
            "text/plain": [
              "[Document(metadata={'row': 6, 'source': '/content/drive/MyDrive/Colab Notebooks/rag-cookbooks-copy/data/context.csv'}, page_content=\"context: ['MacConkey agar is a selective and differential culture medium for bacteria. It is designed to selectively isolate Gram-negative and enteric (normally found in the intestinal tract) bacteria and differentiate them based on lactose fermentation. Lactose fermenters turn red or pink on MacConkey agar, and nonfermenters do not change color. The media inhibits growth of Gram-positive organisms with crystal violet and bile salts, allowing for the selection and isolation of gram-negative\"),\n",
              " Document(metadata={'row': 6, 'source': '/content/drive/MyDrive/Colab Notebooks/rag-cookbooks-copy/data/context.csv'}, page_content='predominantly made from the lactose sugar in the agar.\\\\n\\\\n\\\\n== Variant ==\\\\nA variant, sorbitol-MacConkey agar, (with the addition of additional selective agents) can assist in the isolation and differentiation of enterohemorrhagic E. coli serotype E. coli O157:H7, by the presence of colorless circular colonies that are non-sorbitol fermenting.\\\\n\\\\n\\\\n== See also ==\\\\nR2a agar\\\\nMRS agar (culture medium designed to grow Gram-positive bacteria and differentiate them for lactose fermentation).\\\\n\\\\n\\\\n=='),\n",
              " Document(metadata={'row': 6, 'source': '/content/drive/MyDrive/Colab Notebooks/rag-cookbooks-copy/data/context.csv'}, page_content='0.001 g\\\\nAgar – 13.5 g\\\\nWater – add to make 1 litre; adjust pH to 7.1 +/− 0.2\\\\nSodium taurocholateThere are many variations of MacConkey agar depending on the need. If the spreading or swarming of Proteus species is not required, sodium chloride is omitted. Crystal violet at a concentration of 0.0001% (0.001 g per litre) is included when needing to check if Gram-positive bacteria are inhibited. MacConkey with sorbitol is used to isolate E. coli O157, an enteric pathogen.\\\\n\\\\n\\\\n== History ==\\\\nThe'),\n",
              " Document(metadata={'source': '/content/drive/MyDrive/Colab Notebooks/rag-cookbooks-copy/data/context.csv', 'row': 37}, page_content='zoonotic disease since around 1910, but in the 1930s knowledge was gained that the bacteria lost their virulent power when repeatedly spread on agar media. This explained the difficulties to reproduce results from different studies as the pre-inoculating handlings of the bacteria were not standardized among scientists.Today it is established that at least some primate species are highly susceptible to B. pertussis and develop clinical whooping cough in high incidence when exposed to low'),\n",
              " Document(metadata={'row': 6, 'source': '/content/drive/MyDrive/Colab Notebooks/rag-cookbooks-copy/data/context.csv'}, page_content='medium was developed by Alfred Theodore MacConkey while working as a bacteriologist for the Royal Commission on Sewage Disposal.\\\\n\\\\n\\\\n== Uses ==\\\\nUsing neutral red pH indicator, the agar distinguishes those Gram-negative bacteria that can ferment the sugar lactose (Lac+) from those that cannot (Lac-).\\\\nThis medium is also known as an \"indicator medium\" and a \"low selective medium\". Presence of bile salts inhibits swarming by Proteus species.\\\\n\\\\n\\\\n=== Lac positive ===\\\\nBy utilizing the lactose')]"
            ]
          },
          "metadata": {},
          "execution_count": 12
        }
      ]
    },
    {
      "cell_type": "markdown",
      "source": [
        "# RAG Chain"
      ],
      "metadata": {
        "id": "-LqENvKO4eY_"
      }
    },
    {
      "cell_type": "code",
      "source": [
        "# load llm\n",
        "from langchain_openai import ChatOpenAI\n",
        "llm = ChatOpenAI()"
      ],
      "metadata": {
        "id": "u-fekRVP4fRS"
      },
      "execution_count": 13,
      "outputs": []
    },
    {
      "cell_type": "code",
      "source": [
        "# create document chain\n",
        "from langchain.prompts import ChatPromptTemplate\n",
        "from langchain.schema.runnable import RunnablePassthrough\n",
        "from langchain.schema.output_parser import StrOutputParser\n",
        "\n",
        "template = \"\"\"\"\n",
        "You are a helpful assistant that answers questions based on the following context.\n",
        "If you don't find the answer in the context, just say that you don't know.\n",
        "Context: {context}\n",
        "\n",
        "Question: {input}\n",
        "\n",
        "Answer:\n",
        "\n",
        "\"\"\"\n",
        "prompt = ChatPromptTemplate.from_template(template)\n",
        "\n",
        "# setup RAG pipeline\n",
        "rag_chain = (\n",
        "    {\"context\": retriever, \"input\": RunnablePassthrough()}\n",
        "    | prompt\n",
        "    | llm\n",
        "    | StrOutputParser()\n",
        ")\n"
      ],
      "metadata": {
        "id": "m07BRaEmRlDO"
      },
      "execution_count": 14,
      "outputs": []
    },
    {
      "cell_type": "code",
      "source": [
        "# response\n",
        "response = rag_chain.invoke(\"what bacteria grow on macconkey agar\")\n",
        "response"
      ],
      "metadata": {
        "colab": {
          "base_uri": "https://localhost:8080/",
          "height": 87
        },
        "id": "ybTsqk5wUEIo",
        "outputId": "cd82739c-3742-4541-8a3a-0a4b0ebfcf94"
      },
      "execution_count": 15,
      "outputs": [
        {
          "output_type": "execute_result",
          "data": {
            "text/plain": [
              "'MacConkey agar is designed to selectively isolate Gram-negative and enteric (normally found in the intestinal tract) bacteria. It can differentiate bacteria based on lactose fermentation. Lactose fermenters turn red or pink on MacConkey agar, while nonfermenters do not change color. The media inhibits the growth of Gram-positive organisms, allowing for the selection and isolation of gram-negative bacteria.'"
            ],
            "application/vnd.google.colaboratory.intrinsic+json": {
              "type": "string"
            }
          },
          "metadata": {},
          "execution_count": 15
        }
      ]
    },
    {
      "cell_type": "markdown",
      "source": [
        "# Preparing Data for Evaluation"
      ],
      "metadata": {
        "id": "VT_elBFP4pLV"
      }
    },
    {
      "cell_type": "code",
      "source": [
        "# create dataset\n",
        "question = [\"what bacteria grow on macconkey agar\", \"who wrote a rose is a rose is a rose\"]\n",
        "response = []\n",
        "contexts = []\n",
        "\n",
        "# inference\n",
        "for query in question:\n",
        "    print(query)\n",
        "    response.append(rag_chain.invoke(query))\n",
        "    contexts.append([docs.page_content for docs in ensemble_retriever.get_relevant_documents(query)])\n",
        "\n",
        "# retriever.get_relevant_documents(query) で返ってくるのは Document オブジェクトのリスト\n",
        "#（例）：\n",
        "# [\n",
        "#     Document(page_content=\"World War I or the First World War (28 July 1914 – 11 November 1918)...\"),\n",
        "#     Document(page_content=\"Some wars name themselves. This is the Great War...\")\n",
        "# ]\n",
        "\n",
        "# To dict\n",
        "data = {\n",
        "    \"query\": question,\n",
        "    \"response\": response,\n",
        "    \"context\": contexts,\n",
        "}"
      ],
      "metadata": {
        "colab": {
          "base_uri": "https://localhost:8080/"
        },
        "id": "PgGkPbqKUNhg",
        "outputId": "af4c2430-1c3c-496d-9bab-7b551c64598a"
      },
      "execution_count": 16,
      "outputs": [
        {
          "output_type": "stream",
          "name": "stdout",
          "text": [
            "what bacteria grow on macconkey agar\n",
            "who wrote a rose is a rose is a rose\n"
          ]
        }
      ]
    },
    {
      "cell_type": "markdown",
      "source": [
        "# Evaluation in another LLM"
      ],
      "metadata": {
        "id": "iVeGyRav1egY"
      }
    },
    {
      "cell_type": "code",
      "source": [
        "import openai\n",
        "# # OpenAI クライアントを作成\n",
        "client = openai.OpenAI(api_key=os.getenv(\"OPENAI_API_KEY\"))\n",
        "\n",
        "# # 使用可能なモデル一覧を取得\n",
        "# available_models = client.models.list()\n",
        "\n",
        "# # モデル名を抽出\n",
        "# model_names = [model.id for model in available_models]\n",
        "\n",
        "# # すべての利用可能なモデルを表示\n",
        "# import pprint\n",
        "# pprint.pprint(model_names)\n",
        "\n",
        "# # \"o3-mini-high\" が含まれているか\n",
        "# print(\"o3-mini-high\" in model_names)"
      ],
      "metadata": {
        "id": "H3ozxGAj33Fr",
        "collapsed": true
      },
      "execution_count": 20,
      "outputs": []
    },
    {
      "cell_type": "code",
      "source": [
        "evaluation_prompt = \"\"\"\n",
        "You are an expert AI evaluator.\n",
        "You will evaluate the relevance and accuracy of the given response based on the provided context.\n",
        "\n",
        "### Evaluation Criteria: ５段階評価\n",
        "1. **Relevance (1-5):** Does the response directly answer the question?\n",
        "2. **Accuracy (1-5):** Is the response factually correct given the context?\n",
        "3. **Justification:** Explain why the response is rated this way.\n",
        "\n",
        "### Example Format:\n",
        "Relevance: 4\n",
        "Accuracy: 5\n",
        "Justification: The response correctly states the end date of World War I, which matches the context.\n",
        "\n",
        "### Input:\n",
        "Query: {query}\n",
        "Response: {response}\n",
        "Context: {context}\n",
        "\n",
        "### Output:\n",
        "\"\"\""
      ],
      "metadata": {
        "id": "xzyNS6NLyykM"
      },
      "execution_count": 21,
      "outputs": []
    },
    {
      "cell_type": "code",
      "source": [
        "import pandas as pd\n",
        "\n",
        "# LLM を使って評価を実施する関数\n",
        "def evaluate_response(record):\n",
        "    query = record[\"query\"]\n",
        "    response = record[\"response\"]\n",
        "    context = \"\\n\".join(record[\"context\"])\n",
        "\n",
        "    prompt = evaluation_prompt.format(query=query, response=response, context=context)\n",
        "\n",
        "    completion = client.chat.completions.create(\n",
        "        model=\"gpt-4o-mini\",  # 必要に応じて変更\n",
        "        messages=[{\"role\": \"system\", \"content\": \"You are an AI assistant evaluating responses.\"},\n",
        "                  {\"role\": \"user\", \"content\": prompt}],\n",
        "        max_tokens=200\n",
        "    )\n",
        "\n",
        "    evaluation_text = completion.choices[0].message.content.strip()\n",
        "\n",
        "    # Relevance と Accuracy のスコアを抽出\n",
        "    relevance_score = None\n",
        "    accuracy_score = None\n",
        "    justification = \"\"\n",
        "\n",
        "    for line in evaluation_text.split(\"\\n\"):\n",
        "        if line.startswith(\"Relevance:\"):\n",
        "            relevance_score = int(line.split(\":\")[1].strip())\n",
        "        elif line.startswith(\"Accuracy:\"):\n",
        "            accuracy_score = int(line.split(\":\")[1].strip())\n",
        "        elif line.startswith(\"Justification:\"):\n",
        "            justification = line.split(\"Justification:\")[1].strip()\n",
        "\n",
        "    return {\n",
        "        \"Query\": query,\n",
        "        \"Response\": response,\n",
        "        \"Context\": context,\n",
        "        \"Relevance\": relevance_score,\n",
        "        \"Accuracy\": accuracy_score,\n",
        "        \"Justification\": justification\n",
        "    }\n",
        "\n",
        "df_dict = pd.DataFrame(data)\n",
        "\n",
        "# df_dict のデータを LLM で評価\n",
        "evaluated_results = [evaluate_response(record) for record in df_dict.to_dict('records')]\n",
        "\n",
        "# DataFrame に変換\n",
        "df_evaluated = pd.DataFrame(evaluated_results)\n",
        "df_evaluated"
      ],
      "metadata": {
        "colab": {
          "base_uri": "https://localhost:8080/",
          "height": 181
        },
        "id": "IlWS5VH1y76u",
        "outputId": "c9926a77-83fc-46a6-e461-326a8aa1e1ff"
      },
      "execution_count": 22,
      "outputs": [
        {
          "output_type": "execute_result",
          "data": {
            "text/plain": [
              "                                  Query  \\\n",
              "0  what bacteria grow on macconkey agar   \n",
              "1  who wrote a rose is a rose is a rose   \n",
              "\n",
              "                                            Response  \\\n",
              "0  MacConkey agar is designed to selectively isol...   \n",
              "1  Gertrude Stein wrote \"A rose is a rose is a ro...   \n",
              "\n",
              "                                             Context  Relevance  Accuracy  \\\n",
              "0  context: ['MacConkey agar is a selective and d...          5         5   \n",
              "1  'Version ridicules the stupidity of court spee...          5         5   \n",
              "\n",
              "                                       Justification  \n",
              "0  The response accurately describes the purpose ...  \n",
              "1  The response accurately attributes the phrase ...  "
            ],
            "text/html": [
              "\n",
              "  <div id=\"df-7f51dd90-724c-47ea-b883-45182e23cee9\" class=\"colab-df-container\">\n",
              "    <div>\n",
              "<style scoped>\n",
              "    .dataframe tbody tr th:only-of-type {\n",
              "        vertical-align: middle;\n",
              "    }\n",
              "\n",
              "    .dataframe tbody tr th {\n",
              "        vertical-align: top;\n",
              "    }\n",
              "\n",
              "    .dataframe thead th {\n",
              "        text-align: right;\n",
              "    }\n",
              "</style>\n",
              "<table border=\"1\" class=\"dataframe\">\n",
              "  <thead>\n",
              "    <tr style=\"text-align: right;\">\n",
              "      <th></th>\n",
              "      <th>Query</th>\n",
              "      <th>Response</th>\n",
              "      <th>Context</th>\n",
              "      <th>Relevance</th>\n",
              "      <th>Accuracy</th>\n",
              "      <th>Justification</th>\n",
              "    </tr>\n",
              "  </thead>\n",
              "  <tbody>\n",
              "    <tr>\n",
              "      <th>0</th>\n",
              "      <td>what bacteria grow on macconkey agar</td>\n",
              "      <td>MacConkey agar is designed to selectively isol...</td>\n",
              "      <td>context: ['MacConkey agar is a selective and d...</td>\n",
              "      <td>5</td>\n",
              "      <td>5</td>\n",
              "      <td>The response accurately describes the purpose ...</td>\n",
              "    </tr>\n",
              "    <tr>\n",
              "      <th>1</th>\n",
              "      <td>who wrote a rose is a rose is a rose</td>\n",
              "      <td>Gertrude Stein wrote \"A rose is a rose is a ro...</td>\n",
              "      <td>'Version ridicules the stupidity of court spee...</td>\n",
              "      <td>5</td>\n",
              "      <td>5</td>\n",
              "      <td>The response accurately attributes the phrase ...</td>\n",
              "    </tr>\n",
              "  </tbody>\n",
              "</table>\n",
              "</div>\n",
              "    <div class=\"colab-df-buttons\">\n",
              "\n",
              "  <div class=\"colab-df-container\">\n",
              "    <button class=\"colab-df-convert\" onclick=\"convertToInteractive('df-7f51dd90-724c-47ea-b883-45182e23cee9')\"\n",
              "            title=\"Convert this dataframe to an interactive table.\"\n",
              "            style=\"display:none;\">\n",
              "\n",
              "  <svg xmlns=\"http://www.w3.org/2000/svg\" height=\"24px\" viewBox=\"0 -960 960 960\">\n",
              "    <path d=\"M120-120v-720h720v720H120Zm60-500h600v-160H180v160Zm220 220h160v-160H400v160Zm0 220h160v-160H400v160ZM180-400h160v-160H180v160Zm440 0h160v-160H620v160ZM180-180h160v-160H180v160Zm440 0h160v-160H620v160Z\"/>\n",
              "  </svg>\n",
              "    </button>\n",
              "\n",
              "  <style>\n",
              "    .colab-df-container {\n",
              "      display:flex;\n",
              "      gap: 12px;\n",
              "    }\n",
              "\n",
              "    .colab-df-convert {\n",
              "      background-color: #E8F0FE;\n",
              "      border: none;\n",
              "      border-radius: 50%;\n",
              "      cursor: pointer;\n",
              "      display: none;\n",
              "      fill: #1967D2;\n",
              "      height: 32px;\n",
              "      padding: 0 0 0 0;\n",
              "      width: 32px;\n",
              "    }\n",
              "\n",
              "    .colab-df-convert:hover {\n",
              "      background-color: #E2EBFA;\n",
              "      box-shadow: 0px 1px 2px rgba(60, 64, 67, 0.3), 0px 1px 3px 1px rgba(60, 64, 67, 0.15);\n",
              "      fill: #174EA6;\n",
              "    }\n",
              "\n",
              "    .colab-df-buttons div {\n",
              "      margin-bottom: 4px;\n",
              "    }\n",
              "\n",
              "    [theme=dark] .colab-df-convert {\n",
              "      background-color: #3B4455;\n",
              "      fill: #D2E3FC;\n",
              "    }\n",
              "\n",
              "    [theme=dark] .colab-df-convert:hover {\n",
              "      background-color: #434B5C;\n",
              "      box-shadow: 0px 1px 3px 1px rgba(0, 0, 0, 0.15);\n",
              "      filter: drop-shadow(0px 1px 2px rgba(0, 0, 0, 0.3));\n",
              "      fill: #FFFFFF;\n",
              "    }\n",
              "  </style>\n",
              "\n",
              "    <script>\n",
              "      const buttonEl =\n",
              "        document.querySelector('#df-7f51dd90-724c-47ea-b883-45182e23cee9 button.colab-df-convert');\n",
              "      buttonEl.style.display =\n",
              "        google.colab.kernel.accessAllowed ? 'block' : 'none';\n",
              "\n",
              "      async function convertToInteractive(key) {\n",
              "        const element = document.querySelector('#df-7f51dd90-724c-47ea-b883-45182e23cee9');\n",
              "        const dataTable =\n",
              "          await google.colab.kernel.invokeFunction('convertToInteractive',\n",
              "                                                    [key], {});\n",
              "        if (!dataTable) return;\n",
              "\n",
              "        const docLinkHtml = 'Like what you see? Visit the ' +\n",
              "          '<a target=\"_blank\" href=https://colab.research.google.com/notebooks/data_table.ipynb>data table notebook</a>'\n",
              "          + ' to learn more about interactive tables.';\n",
              "        element.innerHTML = '';\n",
              "        dataTable['output_type'] = 'display_data';\n",
              "        await google.colab.output.renderOutput(dataTable, element);\n",
              "        const docLink = document.createElement('div');\n",
              "        docLink.innerHTML = docLinkHtml;\n",
              "        element.appendChild(docLink);\n",
              "      }\n",
              "    </script>\n",
              "  </div>\n",
              "\n",
              "\n",
              "<div id=\"df-f7c5f7f1-b1b3-4a1f-b1b0-839e17672954\">\n",
              "  <button class=\"colab-df-quickchart\" onclick=\"quickchart('df-f7c5f7f1-b1b3-4a1f-b1b0-839e17672954')\"\n",
              "            title=\"Suggest charts\"\n",
              "            style=\"display:none;\">\n",
              "\n",
              "<svg xmlns=\"http://www.w3.org/2000/svg\" height=\"24px\"viewBox=\"0 0 24 24\"\n",
              "     width=\"24px\">\n",
              "    <g>\n",
              "        <path d=\"M19 3H5c-1.1 0-2 .9-2 2v14c0 1.1.9 2 2 2h14c1.1 0 2-.9 2-2V5c0-1.1-.9-2-2-2zM9 17H7v-7h2v7zm4 0h-2V7h2v10zm4 0h-2v-4h2v4z\"/>\n",
              "    </g>\n",
              "</svg>\n",
              "  </button>\n",
              "\n",
              "<style>\n",
              "  .colab-df-quickchart {\n",
              "      --bg-color: #E8F0FE;\n",
              "      --fill-color: #1967D2;\n",
              "      --hover-bg-color: #E2EBFA;\n",
              "      --hover-fill-color: #174EA6;\n",
              "      --disabled-fill-color: #AAA;\n",
              "      --disabled-bg-color: #DDD;\n",
              "  }\n",
              "\n",
              "  [theme=dark] .colab-df-quickchart {\n",
              "      --bg-color: #3B4455;\n",
              "      --fill-color: #D2E3FC;\n",
              "      --hover-bg-color: #434B5C;\n",
              "      --hover-fill-color: #FFFFFF;\n",
              "      --disabled-bg-color: #3B4455;\n",
              "      --disabled-fill-color: #666;\n",
              "  }\n",
              "\n",
              "  .colab-df-quickchart {\n",
              "    background-color: var(--bg-color);\n",
              "    border: none;\n",
              "    border-radius: 50%;\n",
              "    cursor: pointer;\n",
              "    display: none;\n",
              "    fill: var(--fill-color);\n",
              "    height: 32px;\n",
              "    padding: 0;\n",
              "    width: 32px;\n",
              "  }\n",
              "\n",
              "  .colab-df-quickchart:hover {\n",
              "    background-color: var(--hover-bg-color);\n",
              "    box-shadow: 0 1px 2px rgba(60, 64, 67, 0.3), 0 1px 3px 1px rgba(60, 64, 67, 0.15);\n",
              "    fill: var(--button-hover-fill-color);\n",
              "  }\n",
              "\n",
              "  .colab-df-quickchart-complete:disabled,\n",
              "  .colab-df-quickchart-complete:disabled:hover {\n",
              "    background-color: var(--disabled-bg-color);\n",
              "    fill: var(--disabled-fill-color);\n",
              "    box-shadow: none;\n",
              "  }\n",
              "\n",
              "  .colab-df-spinner {\n",
              "    border: 2px solid var(--fill-color);\n",
              "    border-color: transparent;\n",
              "    border-bottom-color: var(--fill-color);\n",
              "    animation:\n",
              "      spin 1s steps(1) infinite;\n",
              "  }\n",
              "\n",
              "  @keyframes spin {\n",
              "    0% {\n",
              "      border-color: transparent;\n",
              "      border-bottom-color: var(--fill-color);\n",
              "      border-left-color: var(--fill-color);\n",
              "    }\n",
              "    20% {\n",
              "      border-color: transparent;\n",
              "      border-left-color: var(--fill-color);\n",
              "      border-top-color: var(--fill-color);\n",
              "    }\n",
              "    30% {\n",
              "      border-color: transparent;\n",
              "      border-left-color: var(--fill-color);\n",
              "      border-top-color: var(--fill-color);\n",
              "      border-right-color: var(--fill-color);\n",
              "    }\n",
              "    40% {\n",
              "      border-color: transparent;\n",
              "      border-right-color: var(--fill-color);\n",
              "      border-top-color: var(--fill-color);\n",
              "    }\n",
              "    60% {\n",
              "      border-color: transparent;\n",
              "      border-right-color: var(--fill-color);\n",
              "    }\n",
              "    80% {\n",
              "      border-color: transparent;\n",
              "      border-right-color: var(--fill-color);\n",
              "      border-bottom-color: var(--fill-color);\n",
              "    }\n",
              "    90% {\n",
              "      border-color: transparent;\n",
              "      border-bottom-color: var(--fill-color);\n",
              "    }\n",
              "  }\n",
              "</style>\n",
              "\n",
              "  <script>\n",
              "    async function quickchart(key) {\n",
              "      const quickchartButtonEl =\n",
              "        document.querySelector('#' + key + ' button');\n",
              "      quickchartButtonEl.disabled = true;  // To prevent multiple clicks.\n",
              "      quickchartButtonEl.classList.add('colab-df-spinner');\n",
              "      try {\n",
              "        const charts = await google.colab.kernel.invokeFunction(\n",
              "            'suggestCharts', [key], {});\n",
              "      } catch (error) {\n",
              "        console.error('Error during call to suggestCharts:', error);\n",
              "      }\n",
              "      quickchartButtonEl.classList.remove('colab-df-spinner');\n",
              "      quickchartButtonEl.classList.add('colab-df-quickchart-complete');\n",
              "    }\n",
              "    (() => {\n",
              "      let quickchartButtonEl =\n",
              "        document.querySelector('#df-f7c5f7f1-b1b3-4a1f-b1b0-839e17672954 button');\n",
              "      quickchartButtonEl.style.display =\n",
              "        google.colab.kernel.accessAllowed ? 'block' : 'none';\n",
              "    })();\n",
              "  </script>\n",
              "</div>\n",
              "\n",
              "  <div id=\"id_2dc1049a-5f27-49ae-9685-3a29c100e1bb\">\n",
              "    <style>\n",
              "      .colab-df-generate {\n",
              "        background-color: #E8F0FE;\n",
              "        border: none;\n",
              "        border-radius: 50%;\n",
              "        cursor: pointer;\n",
              "        display: none;\n",
              "        fill: #1967D2;\n",
              "        height: 32px;\n",
              "        padding: 0 0 0 0;\n",
              "        width: 32px;\n",
              "      }\n",
              "\n",
              "      .colab-df-generate:hover {\n",
              "        background-color: #E2EBFA;\n",
              "        box-shadow: 0px 1px 2px rgba(60, 64, 67, 0.3), 0px 1px 3px 1px rgba(60, 64, 67, 0.15);\n",
              "        fill: #174EA6;\n",
              "      }\n",
              "\n",
              "      [theme=dark] .colab-df-generate {\n",
              "        background-color: #3B4455;\n",
              "        fill: #D2E3FC;\n",
              "      }\n",
              "\n",
              "      [theme=dark] .colab-df-generate:hover {\n",
              "        background-color: #434B5C;\n",
              "        box-shadow: 0px 1px 3px 1px rgba(0, 0, 0, 0.15);\n",
              "        filter: drop-shadow(0px 1px 2px rgba(0, 0, 0, 0.3));\n",
              "        fill: #FFFFFF;\n",
              "      }\n",
              "    </style>\n",
              "    <button class=\"colab-df-generate\" onclick=\"generateWithVariable('df_evaluated')\"\n",
              "            title=\"Generate code using this dataframe.\"\n",
              "            style=\"display:none;\">\n",
              "\n",
              "  <svg xmlns=\"http://www.w3.org/2000/svg\" height=\"24px\"viewBox=\"0 0 24 24\"\n",
              "       width=\"24px\">\n",
              "    <path d=\"M7,19H8.4L18.45,9,17,7.55,7,17.6ZM5,21V16.75L18.45,3.32a2,2,0,0,1,2.83,0l1.4,1.43a1.91,1.91,0,0,1,.58,1.4,1.91,1.91,0,0,1-.58,1.4L9.25,21ZM18.45,9,17,7.55Zm-12,3A5.31,5.31,0,0,0,4.9,8.1,5.31,5.31,0,0,0,1,6.5,5.31,5.31,0,0,0,4.9,4.9,5.31,5.31,0,0,0,6.5,1,5.31,5.31,0,0,0,8.1,4.9,5.31,5.31,0,0,0,12,6.5,5.46,5.46,0,0,0,6.5,12Z\"/>\n",
              "  </svg>\n",
              "    </button>\n",
              "    <script>\n",
              "      (() => {\n",
              "      const buttonEl =\n",
              "        document.querySelector('#id_2dc1049a-5f27-49ae-9685-3a29c100e1bb button.colab-df-generate');\n",
              "      buttonEl.style.display =\n",
              "        google.colab.kernel.accessAllowed ? 'block' : 'none';\n",
              "\n",
              "      buttonEl.onclick = () => {\n",
              "        google.colab.notebook.generateWithVariable('df_evaluated');\n",
              "      }\n",
              "      })();\n",
              "    </script>\n",
              "  </div>\n",
              "\n",
              "    </div>\n",
              "  </div>\n"
            ],
            "application/vnd.google.colaboratory.intrinsic+json": {
              "type": "dataframe",
              "variable_name": "df_evaluated",
              "summary": "{\n  \"name\": \"df_evaluated\",\n  \"rows\": 2,\n  \"fields\": [\n    {\n      \"column\": \"Query\",\n      \"properties\": {\n        \"dtype\": \"string\",\n        \"num_unique_values\": 2,\n        \"samples\": [\n          \"who wrote a rose is a rose is a rose\",\n          \"what bacteria grow on macconkey agar\"\n        ],\n        \"semantic_type\": \"\",\n        \"description\": \"\"\n      }\n    },\n    {\n      \"column\": \"Response\",\n      \"properties\": {\n        \"dtype\": \"string\",\n        \"num_unique_values\": 2,\n        \"samples\": [\n          \"Gertrude Stein wrote \\\"A rose is a rose is a rose.\\\"\",\n          \"MacConkey agar is designed to selectively isolate Gram-negative and enteric bacteria, typically found in the intestinal tract. It helps differentiate bacteria based on lactose fermentation. Lactose fermenters turn red or pink on MacConkey agar, while nonfermenters do not change color. The media inhibits the growth of Gram-positive organisms.\"\n        ],\n        \"semantic_type\": \"\",\n        \"description\": \"\"\n      }\n    },\n    {\n      \"column\": \"Context\",\n      \"properties\": {\n        \"dtype\": \"string\",\n        \"num_unique_values\": 2,\n        \"samples\": [\n          \"'Version ridicules the stupidity of court speeches when the prosecutor ends his opening speech with \\\"murder is murder is murder.\\\"\\\\nJeanette Winterson wrote in her novel Written on the Body: \\\"Sometimes a breast is a breast is a breast.\\\"\\\\n\\\"La rosa es una rosa es una rosa\\\" is used in Fernando del Paso\\\\'s Sonetos con lugares comunes.\\\\nA song by Poe (Anne Danielewski), \\\"A rose is a rose\\\", states \\\"a rose is a rose is a rose is a rose said my good friend Gertrude Stein.\\\"\\\\nThe computer game Carmen\\nshe would carve on the tree Rose is a Rose is a Rose is a Rose is a Rose until it went all the way around.\\\" (The World is Round)\\\\n\\\"A rose tree may be a rose tree may be a rosy rose tree if watered.\\\" (Alphabets and Birthdays)\\\\n\\\"Indeed a rose is a rose makes a pretty plate....\\\" (Stanzas in Meditation)\\\\n\\\"When I said.A rose is a rose is a rose is a rose.\\\\nAnd then later made that into a ring I made poetry and what did I do I caressed completely caressed and addressed a noun.\\\"  (Lectures in\\ncontext: ['The sentence \\\"Rose is a rose is a rose is a rose\\\" was written by Gertrude Stein as part of the 1913 poem \\\"Sacred Emily\\\", which appeared in the 1922 book Geography and Plays. In that poem, the first \\\"Rose\\\" is the name of a person. Stein later used variations on the sentence in other writings, and the shortened form \\\"A rose is a rose is a rose\\\" is among her most famous quotations, often interpreted as meaning \\\"things are what they are\\\", a statement of the law of identity, \\\"A is A\\\". \\\\nIn\\nthis he wrote a note to the gardener: \\\"Our roses are rose. Is a row Cicero\\\\'s?\\\" He has also rendered it as \\\"Arrows sees Harrow\\\\'s Ciceros\\\" in a spin-off book You Can\\\\'t Have Your Kayak and Heat It.\\\\nJulio Cort\\u00e1zar wrote in his novel Rayuela \\\"A es A, a rose is a rose is a rose, April is the cruellest month, cada cosa en su lugar y un lugar para cada rosa es una rosa es una rosa...\\\"\\\\nStephen King refers to \\\"A rose is a rose is a rose...\\\" in his popular fantasy series The Dark Tower.\\\\nHelge\\nimply, through the use of the word, the archetypical elements of the romantic era.\\\\n\\\\n\\\\n== Mentions of \\\"rose\\\" in \\\"Sacred Emily\\\" ==\\\\nThe following lines appear at widely separated places in \\\"Sacred Emily\\\":\\\\n\\\\nIt is rose in hen.\\\\nJack Rose Jack Rose.\\\\nRose is a rose is a rose is a rose.\\\\n\\\\n\\\\n== Versions by others ==\\\\n\\\"Rose is a rose is a rose is a rose.\\\" (\\\"Sacred Emily\\\", Geography and Plays)\\\\n\\\"Do we suppose that all she knows is that a rose is a rose is a rose is a rose.\\\" (Operas and Plays)\\\\n\\\"...\",\n          \"context: ['MacConkey agar is a selective and differential culture medium for bacteria. It is designed to selectively isolate Gram-negative and enteric (normally found in the intestinal tract) bacteria and differentiate them based on lactose fermentation. Lactose fermenters turn red or pink on MacConkey agar, and nonfermenters do not change color. The media inhibits growth of Gram-positive organisms with crystal violet and bile salts, allowing for the selection and isolation of gram-negative\\npredominantly made from the lactose sugar in the agar.\\\\n\\\\n\\\\n== Variant ==\\\\nA variant, sorbitol-MacConkey agar, (with the addition of additional selective agents) can assist in the isolation and differentiation of enterohemorrhagic E. coli serotype E. coli O157:H7, by the presence of colorless circular colonies that are non-sorbitol fermenting.\\\\n\\\\n\\\\n== See also ==\\\\nR2a agar\\\\nMRS agar (culture medium designed to grow Gram-positive bacteria and differentiate them for lactose fermentation).\\\\n\\\\n\\\\n==\\n0.001 g\\\\nAgar \\u2013 13.5 g\\\\nWater \\u2013 add to make 1 litre; adjust pH to 7.1 +/\\u2212 0.2\\\\nSodium taurocholateThere are many variations of MacConkey agar depending on the need. If the spreading or swarming of Proteus species is not required, sodium chloride is omitted. Crystal violet at a concentration of 0.0001% (0.001 g per litre) is included when needing to check if Gram-positive bacteria are inhibited. MacConkey with sorbitol is used to isolate E. coli O157, an enteric pathogen.\\\\n\\\\n\\\\n== History ==\\\\nThe\\nzoonotic disease since around 1910, but in the 1930s knowledge was gained that the bacteria lost their virulent power when repeatedly spread on agar media. This explained the difficulties to reproduce results from different studies as the pre-inoculating handlings of the bacteria were not standardized among scientists.Today it is established that at least some primate species are highly susceptible to B. pertussis and develop clinical whooping cough in high incidence when exposed to low\\nmedium was developed by Alfred Theodore MacConkey while working as a bacteriologist for the Royal Commission on Sewage Disposal.\\\\n\\\\n\\\\n== Uses ==\\\\nUsing neutral red pH indicator, the agar distinguishes those Gram-negative bacteria that can ferment the sugar lactose (Lac+) from those that cannot (Lac-).\\\\nThis medium is also known as an \\\"indicator medium\\\" and a \\\"low selective medium\\\". Presence of bile salts inhibits swarming by Proteus species.\\\\n\\\\n\\\\n=== Lac positive ===\\\\nBy utilizing the lactose\"\n        ],\n        \"semantic_type\": \"\",\n        \"description\": \"\"\n      }\n    },\n    {\n      \"column\": \"Relevance\",\n      \"properties\": {\n        \"dtype\": \"number\",\n        \"std\": 0,\n        \"min\": 5,\n        \"max\": 5,\n        \"num_unique_values\": 1,\n        \"samples\": [\n          5\n        ],\n        \"semantic_type\": \"\",\n        \"description\": \"\"\n      }\n    },\n    {\n      \"column\": \"Accuracy\",\n      \"properties\": {\n        \"dtype\": \"number\",\n        \"std\": 0,\n        \"min\": 5,\n        \"max\": 5,\n        \"num_unique_values\": 1,\n        \"samples\": [\n          5\n        ],\n        \"semantic_type\": \"\",\n        \"description\": \"\"\n      }\n    },\n    {\n      \"column\": \"Justification\",\n      \"properties\": {\n        \"dtype\": \"string\",\n        \"num_unique_values\": 2,\n        \"samples\": [\n          \"The response accurately attributes the phrase \\\"A rose is a rose is a rose\\\" to Gertrude Stein, which is directly relevant to the question asked. The context supports this fact, confirming that Stein is indeed the author of this well-known line.\"\n        ],\n        \"semantic_type\": \"\",\n        \"description\": \"\"\n      }\n    }\n  ]\n}"
            }
          },
          "metadata": {},
          "execution_count": 22
        }
      ]
    }
  ]
}