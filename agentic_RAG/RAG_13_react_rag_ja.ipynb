{
 "cells": [
  {
   "cell_type": "markdown",
   "metadata": {},
   "source": [
    "# **ReAct RAG**\n",
    "\n",
    "**ReAct**システムは、推論、行動、情報検索を組み合わせた高度な技術です。環境を分析し、関連するデータを検索し、その情報を用いて意思決定や応答の生成を行います。\n",
    "\n",
    "この例では、3つのベクトルストアを用いて関連データを効率的に管理・検索する ReAct RAG システムを構築します。\n",
    "\n",
    "- **Appointment (アポイントメント)：** \n",
    "  - 今後のアポイントメントのスケジュールや詳細情報を扱います。患者ID、受診理由、そして来院時の主な症状が記載され、アポイントメントに必要な基本情報。\n",
    "- **Patient History (患者履歴)：**\n",
    "  - 患者の包括的な医療履歴を保存し、検索できるようにします。患者の年齢、口腔衛生の習慣、過去の治療歴や感情面の記述が含まれており、患者の全体的な医療履歴として十分な情報を提供する。\n",
    "- **Last Appointment Summary (最新アポイントメント概要)：** \n",
    "  - 直近のアポイントメントの概要として、受診日の情報、実施した処置内容、検査結果、そして具体的な指導内容が含まれており、システム上で迅速に概要を把握するのに適しています。\n",
    "\n",
    "このシステムは、推論とデータ検索を組み合わせることで、正確で文脈を意識した応答を提供し、患者ケアやアポイントメントの管理に役立ちます。"
   ]
  },
  {
   "cell_type": "markdown",
   "metadata": {},
   "source": [
    "### Azure AI Foundry で DeepSeek R1とPhi-4をデプロイして利用。(2025年2月21日現在で両方とも無料)\n",
    "（openai系API料金が高いことと、google系は経験したのでMicrosoftやその他をためしたい。）\n",
    "\n",
    "**DeepSeek-R1**:\n",
    "- 総パラメータ数は6710億、コンテキスト長は128K。(distillution modelは除く)\n",
    "- Azure AI Foundryを通じて安全に利用可能らしいです。\n",
    "- 日本語で追加学習したモデルもすでに有るらしい -> Lightblue/DeepSeek-R1-Distill-Qwen-7B-Japanese\n",
    "- 現在、混み合っているためかレスポンスが遅い、許容範囲外。\n",
    "\n",
    "**Phi-4**:\n",
    "- 総パラメータ数は140億、コンテキスト長は16K。\n",
    "- Microsoftが2024年12月13日に発表した最新の小規模言語モデル（SLM）で、\n",
    "- MicrosoftがこのほどHugging Face上で公式のウェイトをMITライセンス付きで公開しました。\n",
    "- Phi-4は、日本語を含む多言語に対応しており、Azure AI Foundryを通じて利用可能です。\n",
    "- レスポンス速度は許容範囲\n",
    "\n",
    "[こちら](https://zenn.dev/givery_ai_lab/articles/f35586b839f64f#3.2-%E3%83%97%E3%83%AD%E3%82%B8%E3%82%A7%E3%82%AF%E3%83%88%E4%BD%9C%E6%88%90)を参考に使ってみようと思います。\n"
   ]
  },
  {
   "cell_type": "markdown",
   "metadata": {},
   "source": []
  },
  {
   "cell_type": "markdown",
   "metadata": {},
   "source": [
    "## 安全性 East-USのサーバー\n",
    "Microsoftは「Azure AI Foundryの一部であるDeepSeek-R1は、信頼性が高く、企業は高度なAIをシームレスに統合しながら、セキュリティや責任あるAIのコミットメントを満たすことができます。これらはすべてMicrosoftの信頼性とイノベーションに支えられています」「DeepSeek-R1は、モデルの動作の自動評価や潜在的なリスクを軽減するための広範なセキュリティレビューなど、厳格なレッドチームによる安全性の評価を受けています。Azure AI Foundryでは、企業が自信を持ってAIソリューションをデプロイするための、安全でコンプライアンスに準拠した責任ある環境を提供します」"
   ]
  },
  {
   "cell_type": "code",
   "execution_count": null,
   "metadata": {},
   "outputs": [],
   "source": [
    "! uv pip install -qU langchain-azure-ai\n",
    "# ! uv pip install -qU azure-ai-inference "
   ]
  },
  {
   "cell_type": "markdown",
   "metadata": {},
   "source": [
    "# Chat Completion Test in DeepSeek-R1 and Phi-4"
   ]
  },
  {
   "cell_type": "code",
   "execution_count": 6,
   "metadata": {},
   "outputs": [],
   "source": [
    "import os \n",
    "from dotenv import load_dotenv\n",
    "load_dotenv()\n",
    "\n",
    "os.environ[\"AZURE_INFERENCE_CREDENTIAL\"] = os.getenv(\"AZURE_API_KEY\")\n",
    "os.environ[\"AZURE_INFERENCE_ENDPOINT\"] = os.getenv(\"AZURE_TARGET_URI\")\n",
    "os.environ[\"LANGCHAIN_TRACING_V2\"] = \"true\"\n",
    "os.environ[\"LANGCHAIN_API_KEY\"] = os.getenv(\"LANGSMITH_API_KEY\")"
   ]
  },
  {
   "cell_type": "code",
   "execution_count": 13,
   "metadata": {},
   "outputs": [],
   "source": [
    "from langchain_azure_ai.chat_models import AzureAIChatCompletionsModel\n",
    "\n",
    "llm = AzureAIChatCompletionsModel(\n",
    "    model_name=\"Phi-4\",\n",
    "    # model_name=\"DeepSeek-R1\",\n",
    "    temperature=0,\n",
    "    max_tokens=None,\n",
    "    timeout=None,\n",
    "    max_retries=2,\n",
    ")"
   ]
  },
  {
   "cell_type": "code",
   "execution_count": null,
   "metadata": {},
   "outputs": [
    {
     "name": "stdout",
     "output_type": "stream",
     "text": [
      "私はプログラミングが大好きです。\n"
     ]
    },
    {
     "data": {
      "text/plain": [
       "AIMessage(content='私はプログラミングが大好きです。', additional_kwargs={}, response_metadata={'model': 'phi4', 'token_usage': {'input_tokens': 31, 'output_tokens': 15, 'total_tokens': 46}, 'finish_reason': 'stop'}, id='run-02e35952-a7d8-4842-8ec8-5d446fe8bbac-0', usage_metadata={'input_tokens': 31, 'output_tokens': 15, 'total_tokens': 46})"
      ]
     },
     "execution_count": 14,
     "metadata": {},
     "output_type": "execute_result"
    }
   ],
   "source": [
    "messages = [\n",
    "    (\n",
    "        \"system\",\n",
    "        \"You are a helpful assistant that translates English to Japanese. Translate the user sentence.\",\n",
    "    ),\n",
    "    (\"human\", \"I love programming.\"),\n",
    "]\n",
    "ai_msg = llm.invoke(messages)\n",
    "print(ai_msg.content)\n",
    "ai_msg"
   ]
  },
  {
   "cell_type": "markdown",
   "metadata": {},
   "source": [
    "# 評価用データの準備"
   ]
  },
  {
   "cell_type": "code",
   "execution_count": 15,
   "metadata": {},
   "outputs": [
    {
     "data": {
      "text/html": [
       "<div>\n",
       "<style scoped>\n",
       "    .dataframe tbody tr th:only-of-type {\n",
       "        vertical-align: middle;\n",
       "    }\n",
       "\n",
       "    .dataframe tbody tr th {\n",
       "        vertical-align: top;\n",
       "    }\n",
       "\n",
       "    .dataframe thead th {\n",
       "        text-align: right;\n",
       "    }\n",
       "</style>\n",
       "<table border=\"1\" class=\"dataframe\">\n",
       "  <thead>\n",
       "    <tr style=\"text-align: right;\">\n",
       "      <th></th>\n",
       "      <th>question</th>\n",
       "      <th>target_answer</th>\n",
       "      <th>target_page_no</th>\n",
       "    </tr>\n",
       "  </thead>\n",
       "  <tbody>\n",
       "    <tr>\n",
       "      <th>0</th>\n",
       "      <td>オープンイノベーション促進税制において、スタートアップ企業の株式取得に対する税制優遇措置は、...</td>\n",
       "      <td>オープンイノベーション促進税制の下で、新規発行株式の取得は「新規出資型」として分類され、発行...</td>\n",
       "      <td>13</td>\n",
       "    </tr>\n",
       "    <tr>\n",
       "      <th>1</th>\n",
       "      <td>イノベーション拠点税制における所得控除について、控除対象となる研究開発活動に関して具体的にど...</td>\n",
       "      <td>イノベーション拠点税制における所得控除の対象となるためには、企業が主に「国内で」「自ら」開発...</td>\n",
       "      <td>16</td>\n",
       "    </tr>\n",
       "    <tr>\n",
       "      <th>2</th>\n",
       "      <td>「カーブアウト加速等支援事業」の主な目的は何ですか？</td>\n",
       "      <td>事業会社に蓄積されている技術を活用し、新たな会社を立ち上げた者や立ち上げる意思を持つ者に研究...</td>\n",
       "      <td>21</td>\n",
       "    </tr>\n",
       "  </tbody>\n",
       "</table>\n",
       "</div>"
      ],
      "text/plain": [
       "                                            question  \\\n",
       "0  オープンイノベーション促進税制において、スタートアップ企業の株式取得に対する税制優遇措置は、...   \n",
       "1  イノベーション拠点税制における所得控除について、控除対象となる研究開発活動に関して具体的にど...   \n",
       "2                         「カーブアウト加速等支援事業」の主な目的は何ですか？   \n",
       "\n",
       "                                       target_answer  target_page_no  \n",
       "0  オープンイノベーション促進税制の下で、新規発行株式の取得は「新規出資型」として分類され、発行...              13  \n",
       "1  イノベーション拠点税制における所得控除の対象となるためには、企業が主に「国内で」「自ら」開発...              16  \n",
       "2  事業会社に蓄積されている技術を活用し、新たな会社を立ち上げた者や立ち上げる意思を持つ者に研究...              21  "
      ]
     },
     "execution_count": 15,
     "metadata": {},
     "output_type": "execute_result"
    }
   ],
   "source": [
    "import pandas as pd\n",
    "eval_df = pd.read_csv('../data/eval_data.csv')\n",
    "eval_df.head(3)"
   ]
  },
  {
   "cell_type": "markdown",
   "metadata": {},
   "source": [
    "# Embedding"
   ]
  },
  {
   "cell_type": "code",
   "execution_count": 22,
   "metadata": {},
   "outputs": [
    {
     "name": "stdout",
     "output_type": "stream",
     "text": [
      "2025-02-21 15:47:40,301 | INFO | sentence_transformers.SentenceTransformer | Use pytorch device_name: mps\n",
      "2025-02-21 15:47:40,301 | INFO | sentence_transformers.SentenceTransformer | Load pretrained SentenceTransformer: intfloat/multilingual-e5-base\n"
     ]
    }
   ],
   "source": [
    "# huggingface/tokenizers: The current process just got forked, after parallelism has already been used. Disabling parallelism to avoid deadlocks... To disable this warning, you can either: - Avoid using tokenizers before the fork if possible - Explicitly set the environment variable TOKENIZERS_PARALLELISM=(true | false)\n",
    "os.environ[\"TOKENIZERS_PARALLELISM\"] = \"true\" # 警告対策　tokenizersライブラリの並列処理を明示的にON \n",
    "\n",
    "# load embedding model\n",
    "from langchain_huggingface import HuggingFaceEmbeddings\n",
    "embeddings = HuggingFaceEmbeddings(\n",
    "    model_name=\"intfloat/multilingual-e5-base\",\n",
    "    encode_kwargs={\"normalize_embeddings\": True}\n",
    ")"
   ]
  },
  {
   "cell_type": "code",
   "execution_count": 23,
   "metadata": {},
   "outputs": [
    {
     "name": "stdout",
     "output_type": "stream",
     "text": [
      "2025-02-21 15:53:57,271 | INFO | faiss.loader | Loading faiss.\n",
      "2025-02-21 15:53:57,437 | INFO | faiss.loader | Successfully loaded faiss.\n",
      "2025-02-21 15:53:57,442 | INFO | faiss | Failed to load GPU Faiss: name 'GpuIndexIVFFlat' is not defined. Will not load constructor refs for GPU indexes.\n"
     ]
    }
   ],
   "source": [
    "# Load from local file\n",
    "from langchain.vectorstores import FAISS\n",
    "vectorstore = FAISS.load_local(\"../data/db/faiss_index\", embeddings, allow_dangerous_deserialization=True) # これはpickleによるデシリアライゼーションの安全性に関する警告であり、自作のDBなど信頼できるソースからのファイルであれば True で問題ありません\n",
    "# create retriever\n",
    "retriever = vectorstore.as_retriever()"
   ]
  },
  {
   "cell_type": "markdown",
   "metadata": {},
   "source": []
  }
 ],
 "metadata": {
  "kernelspec": {
   "display_name": "env310",
   "language": "python",
   "name": "python3"
  },
  "language_info": {
   "codemirror_mode": {
    "name": "ipython",
    "version": 3
   },
   "file_extension": ".py",
   "mimetype": "text/x-python",
   "name": "python",
   "nbconvert_exporter": "python",
   "pygments_lexer": "ipython3",
   "version": "3.10.15"
  }
 },
 "nbformat": 4,
 "nbformat_minor": 2
}
