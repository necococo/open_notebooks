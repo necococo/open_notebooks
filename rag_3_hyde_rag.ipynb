{
 "cells": [
  {
   "cell_type": "markdown",
   "metadata": {},
   "source": [
    "# [参照リポジトリ](https://github.com/athina-ai/rag-cookbooks) を元に8種類のRAGと5種類のAgenticRAGについて学ぶ 3/13 \n",
    "\n",
    "memo: google colabからlocal macbookのjupyter notebookに変更\n",
    "\n",
    "# Hypothetical Document Embeddings (HyDE) RAG\n",
    "入力されたクエリ(Input Query)をいったんLLMに入れて、仮の回答(Hypothetical Documents)を生成します。その仮の回答を用いて、ナレッジ(Vector DB)から関連する文書を検索し、それをコンテキストとしてLLMに与えて最終的な回答を生成します。\n",
    "\n",
    "1.\t通常のRAG\n",
    "\t- ユーザーのクエリをベクトル化\n",
    "\t- （先に作っておいたベクトルデータベース内の）既存の文書の埋め込みと比較して類似度が高いものを検索\n",
    "\t- 類似した文書を取得し、それを元に回答を生成する\n",
    "\n",
    "2.\tHyDEの動作\n",
    "\t- ユーザーのクエリに対して、「理想的な文書（仮想的な文書）」をまず生成 する\n",
    "\t- その仮想文書を埋め込み化し、それと類似した既存の文書を検索する\n",
    "\t- 結果として、より関連性の高い情報にたどり着きやすくなる\n",
    "\n",
    "3. なぜこの方法が有効なのか？\n",
    "\t- 従来のRAGでは、ユーザーのクエリが単純すぎると、適切な文書を見つけにくいことがある\n",
    "\t- HyDEは、まず「こういう情報がありそうだ」という仮想文書を作り、それを元に検索するため、より関連性の高い文書にアクセスしやすい\n",
    "\t- 特に、検索対象の文書が大量にある場合や、直接的なキーワード検索が難しい場合に有効\n",
    "\n",
    "論文: [HyDE](https://arxiv.org/pdf/2212.10496)"
   ]
  },
  {
   "cell_type": "code",
   "execution_count": 1,
   "metadata": {},
   "outputs": [],
   "source": [
    "!python -m pip install -qU pip\n",
    "!pip install -qU langchain-openai langchain-community chromadb"
   ]
  },
  {
   "cell_type": "code",
   "execution_count": 2,
   "metadata": {},
   "outputs": [],
   "source": [
    "import os\n",
    "from dotenv import load_dotenv\n",
    "load_dotenv()\n",
    "openai_api_key = os.environ.get(\"OPENAI_API_KEY\")\n",
    "\n",
    "from langchain.document_loaders import CSVLoader\n",
    "from langchain.text_splitter import RecursiveCharacterTextSplitter\n",
    "loader = CSVLoader(\"data/context.csv\")\n",
    "documents = loader.load()\n",
    "text_splitter = RecursiveCharacterTextSplitter(chunk_size=500, chunk_overlap=0)\n",
    "documents = text_splitter.split_documents(documents)"
   ]
  },
  {
   "cell_type": "code",
   "execution_count": 3,
   "metadata": {},
   "outputs": [],
   "source": [
    "from langchain_openai import OpenAIEmbeddings\n",
    "embeddings = OpenAIEmbeddings()\n",
    "# create vectorstore\n",
    "from langchain.vectorstores import Chroma\n",
    "vectorstore = Chroma.from_documents(documents, embeddings)\n",
    "# create retriever\n",
    "retriever = vectorstore.as_retriever()"
   ]
  },
  {
   "cell_type": "code",
   "execution_count": 4,
   "metadata": {},
   "outputs": [
    {
     "name": "stdout",
     "output_type": "stream",
     "text": [
      "Q: what bacteria grow on macconkey agar\n",
      "A: Gram-negative and enteric bacteria grow on MacConkey agar.\n",
      "\n",
      "Q: who wrote a rose is a rose is a rose\n",
      "A: Gertrude Stein wrote \"A rose is a rose is a rose\".\n",
      "\n"
     ]
    }
   ],
   "source": [
    "from langchain_openai import ChatOpenAI\n",
    "from langchain.prompts import ChatPromptTemplate\n",
    "from langchain.schema.runnable import RunnablePassthrough\n",
    "from langchain.schema.output_parser import StrOutputParser\n",
    "\n",
    "llm = ChatOpenAI()\n",
    "\n",
    "native_rag_template = \"\"\"\n",
    "You are a helpful assistant that answers questions based on the following context.\n",
    "If you don't find the answer in the context, just say that you don't know.\n",
    "Context: {context}\n",
    "\n",
    "Question: {input}\n",
    "\n",
    "Answer:\n",
    "\"\"\"\n",
    "\n",
    "prompt = ChatPromptTemplate.from_template(native_rag_template)\n",
    "\n",
    "# \"context\": retriever→ ここにはリトリーバル（文書検索）ロジックが含まれるオブジェクトを入れて、後続のプロンプトで文脈として利用します。\n",
    "# \"input\": RunnablePassthrough()→ ユーザからのクエリ（質問など）をそのまま次の処理に渡す役割を持つコンポーネントです。\n",
    "# チェーンの最初の入力として \"context\" と \"input\" という2つの項目を一つの辞書オブジェクトとして渡すために {} が用いられています。\n",
    "rag_chain = (\n",
    "    {\"context\": retriever, \"input\": RunnablePassthrough()} \n",
    "    | prompt \n",
    "    | llm\n",
    "    | StrOutputParser()\n",
    ")\n",
    "# test\n",
    "questions = [\n",
    "    \"what bacteria grow on macconkey agar\",\n",
    "    \"who wrote a rose is a rose is a rose\"\n",
    "]\n",
    "\n",
    "for q in questions:\n",
    "    result = rag_chain.invoke(q)\n",
    "    print(f\"Q: {q}\\nA: {result}\\n\")"
   ]
  },
  {
   "cell_type": "code",
   "execution_count": 21,
   "metadata": {},
   "outputs": [
    {
     "name": "stdout",
     "output_type": "stream",
     "text": [
      "=== Native RAG ===\n"
     ]
    },
    {
     "data": {
      "text/plain": [
       "[{'query': 'what bacteria grow on macconkey agar',\n",
       "  'response': 'Gram-negative and enteric (normally found in the intestinal tract) bacteria grow on MacConkey agar.',\n",
       "  'context': [Document(metadata={'row': 6, 'source': 'data/context.csv'}, page_content=\"context: ['MacConkey agar is a selective and differential culture medium for bacteria. It is designed to selectively isolate Gram-negative and enteric (normally found in the intestinal tract) bacteria and differentiate them based on lactose fermentation. Lactose fermenters turn red or pink on MacConkey agar, and nonfermenters do not change color. The media inhibits growth of Gram-positive organisms with crystal violet and bile salts, allowing for the selection and isolation of gram-negative\"),\n",
       "   Document(metadata={'row': 6, 'source': 'data/context.csv'}, page_content='0.001 g\\\\nAgar – 13.5 g\\\\nWater – add to make 1 litre; adjust pH to 7.1 +/− 0.2\\\\nSodium taurocholateThere are many variations of MacConkey agar depending on the need. If the spreading or swarming of Proteus species is not required, sodium chloride is omitted. Crystal violet at a concentration of 0.0001% (0.001 g per litre) is included when needing to check if Gram-positive bacteria are inhibited. MacConkey with sorbitol is used to isolate E. coli O157, an enteric pathogen.\\\\n\\\\n\\\\n== History ==\\\\nThe'),\n",
       "   Document(metadata={'row': 6, 'source': 'data/context.csv'}, page_content='predominantly made from the lactose sugar in the agar.\\\\n\\\\n\\\\n== Variant ==\\\\nA variant, sorbitol-MacConkey agar, (with the addition of additional selective agents) can assist in the isolation and differentiation of enterohemorrhagic E. coli serotype E. coli O157:H7, by the presence of colorless circular colonies that are non-sorbitol fermenting.\\\\n\\\\n\\\\n== See also ==\\\\nR2a agar\\\\nMRS agar (culture medium designed to grow Gram-positive bacteria and differentiate them for lactose fermentation).\\\\n\\\\n\\\\n=='),\n",
       "   Document(metadata={'row': 6, 'source': 'data/context.csv'}, page_content='medium was developed by Alfred Theodore MacConkey while working as a bacteriologist for the Royal Commission on Sewage Disposal.\\\\n\\\\n\\\\n== Uses ==\\\\nUsing neutral red pH indicator, the agar distinguishes those Gram-negative bacteria that can ferment the sugar lactose (Lac+) from those that cannot (Lac-).\\\\nThis medium is also known as an \"indicator medium\" and a \"low selective medium\". Presence of bile salts inhibits swarming by Proteus species.\\\\n\\\\n\\\\n=== Lac positive ===\\\\nBy utilizing the lactose')]},\n",
       " {'query': 'who wrote a rose is a rose is a rose',\n",
       "  'response': 'Gertrude Stein wrote \"A rose is a rose is a rose.\"',\n",
       "  'context': [Document(metadata={'row': 4, 'source': 'data/context.csv'}, page_content='context: [\\'The sentence \"Rose is a rose is a rose is a rose\" was written by Gertrude Stein as part of the 1913 poem \"Sacred Emily\", which appeared in the 1922 book Geography and Plays. In that poem, the first \"Rose\" is the name of a person. Stein later used variations on the sentence in other writings, and the shortened form \"A rose is a rose is a rose\" is among her most famous quotations, often interpreted as meaning \"things are what they are\", a statement of the law of identity, \"A is A\". \\\\nIn'),\n",
       "   Document(metadata={'row': 4, 'source': 'data/context.csv'}, page_content='this he wrote a note to the gardener: \"Our roses are rose. Is a row Cicero\\\\\\'s?\" He has also rendered it as \"Arrows sees Harrow\\\\\\'s Ciceros\" in a spin-off book You Can\\\\\\'t Have Your Kayak and Heat It.\\\\nJulio Cortázar wrote in his novel Rayuela \"A es A, a rose is a rose is a rose, April is the cruellest month, cada cosa en su lugar y un lugar para cada rosa es una rosa es una rosa...\"\\\\nStephen King refers to \"A rose is a rose is a rose...\" in his popular fantasy series The Dark Tower.\\\\nHelge'),\n",
       "   Document(metadata={'row': 4, 'source': 'data/context.csv'}, page_content='she would carve on the tree Rose is a Rose is a Rose is a Rose is a Rose until it went all the way around.\" (The World is Round)\\\\n\"A rose tree may be a rose tree may be a rosy rose tree if watered.\" (Alphabets and Birthdays)\\\\n\"Indeed a rose is a rose makes a pretty plate....\" (Stanzas in Meditation)\\\\n\"When I said.A rose is a rose is a rose is a rose.\\\\nAnd then later made that into a ring I made poetry and what did I do I caressed completely caressed and addressed a noun.\"  (Lectures in'),\n",
       "   Document(metadata={'row': 4, 'source': 'data/context.csv'}, page_content='\\'Version ridicules the stupidity of court speeches when the prosecutor ends his opening speech with \"murder is murder is murder.\"\\\\nJeanette Winterson wrote in her novel Written on the Body: \"Sometimes a breast is a breast is a breast.\"\\\\n\"La rosa es una rosa es una rosa\" is used in Fernando del Paso\\\\\\'s Sonetos con lugares comunes.\\\\nA song by Poe (Anne Danielewski), \"A rose is a rose\", states \"a rose is a rose is a rose is a rose said my good friend Gertrude Stein.\"\\\\nThe computer game Carmen')]}]"
      ]
     },
     "execution_count": 21,
     "metadata": {},
     "output_type": "execute_result"
    }
   ],
   "source": [
    "questions = [\n",
    "    \"what bacteria grow on macconkey agar\",\n",
    "    \"who wrote a rose is a rose is a rose\"\n",
    "]\n",
    "\n",
    "native_rag_data = []  # 各質問毎のレコードとして格納\n",
    "\n",
    "print(\"=== Native RAG ===\")\n",
    "for q in questions:\n",
    "    # print(f\"\\nQ: {q}\")\n",
    "    # チェーンを実行し回答を取得\n",
    "    answer_text = rag_chain.invoke(q)\n",
    "    \n",
    "    # 検索されたドキュメント\n",
    "    docs = retriever.get_relevant_documents(q)\n",
    "    \n",
    "    # 各質問ごとに辞書レコードとしてまとめる\n",
    "    native_rag_data.append({\n",
    "        \"query\": q,\n",
    "        \"response\": answer_text,\n",
    "        \"context\": docs\n",
    "    })\n",
    "\n",
    "native_rag_data  # // ...以降、評価処理で利用...\n"
   ]
  },
  {
   "cell_type": "code",
   "execution_count": null,
   "metadata": {},
   "outputs": [
    {
     "data": {
      "text/plain": [
       "'MacConkey agar is a selective and differential agar used for the isolation and differentiation of Gram-negative bacteria, particularly Enterobacteriaceae. Some common bacteria that grow on MacConkey agar include Escherichia coli, Klebsiella pneumoniae, Proteus mirabilis, and Salmonella spp. It is also used to differentiate lactose fermenting bacteria (such as E. coli) from non-lactose fermenting bacteria.'"
      ]
     },
     "execution_count": 18,
     "metadata": {},
     "output_type": "execute_result"
    }
   ],
   "source": [
    "# chain without the retriever\n",
    "from langchain_core.output_parsers import StrOutputParser\n",
    "from langchain_core.prompts import ChatPromptTemplate\n",
    "from langchain_openai import ChatOpenAI\n",
    "\n",
    "no_context_template =\"\"\"\n",
    "from langchain_core.prompts import ChatPromptTemplate\n",
    "from langchain_openai import ChatOpenAI\n",
    "\n",
    "\"\"\"\n",
    "no_context_prompt = ChatPromptTemplate.from_messages(\n",
    "    [\n",
    "        (\"system\", no_context_template),\n",
    "        (\"human\", \"{input}\"),\n",
    "    ]\n",
    ")\n",
    "qa_no_context = no_context_prompt | llm | StrOutputParser()\n",
    "\n",
    "# test no_context response\n",
    "question = 'what bacteria grow on macconkey agar'\n",
    "answer = qa_no_context.invoke({\"input\": question})\n",
    "answer\n",
    "\n"
   ]
  },
  {
   "cell_type": "code",
   "execution_count": null,
   "metadata": {},
   "outputs": [
    {
     "data": {
      "text/plain": [
       "'Bacteria that grow on MacConkey agar are primarily Gram-negative and enteric bacteria. This medium is designed to selectively isolate Gram-negative and enteric bacteria based on their ability to ferment lactose. Lactose fermenters will turn red or pink on MacConkey agar, while nonfermenters will not change color. The medium inhibits the growth of Gram-positive organisms, allowing for the selection and isolation of Gram-negative bacteria.'"
      ]
     },
     "execution_count": 19,
     "metadata": {},
     "output_type": "execute_result"
    }
   ],
   "source": [
    "hyde_retrieval_chain = qa_no_context | retriever\n",
    "hyde_retrieved_docs = hyde_retrieval_chain.invoke({\"input\": question})\n",
    "\n",
    "hyde_template = \"\"\"\n",
    "You are a helpful assistant that answers questions based on the provided context.\n",
    "hyde_retrieved_docs = hyde_retrieval_chain.invoke({\"input\": question})\n",
    "\n",
    "Context: {context}\n",
    "\"\"\"\n",
    "\n",
    "hyde_prompt = ChatPromptTemplate.from_template(hyde_template)\n",
    "\n",
    "final_hyde_chain = (\n",
    "    hyde_prompt\n",
    "    | llm\n",
    "    | StrOutputParser()\n",
    ")\n",
    "\n",
    "# test final hyde response\n",
    "final_hyde_chain.invoke({\"context\": hyde_retrieved_docs, \"input\": question})"
   ]
  },
  {
   "cell_type": "code",
   "execution_count": 27,
   "metadata": {},
   "outputs": [
    {
     "data": {
      "text/plain": [
       "[{'query': 'what bacteria grow on macconkey agar',\n",
       "  'response': 'Bacteria that grow on MacConkey agar are primarily Gram-negative and enteric bacteria that can ferment lactose. This includes lactose fermenters that turn red or pink on the agar and nonfermenters that do not change color. The agar inhibits the growth of Gram-positive organisms.',\n",
       "  'context': [Document(metadata={'row': 6, 'source': 'data/context.csv'}, page_content=\"context: ['MacConkey agar is a selective and differential culture medium for bacteria. It is designed to selectively isolate Gram-negative and enteric (normally found in the intestinal tract) bacteria and differentiate them based on lactose fermentation. Lactose fermenters turn red or pink on MacConkey agar, and nonfermenters do not change color. The media inhibits growth of Gram-positive organisms with crystal violet and bile salts, allowing for the selection and isolation of gram-negative\"),\n",
       "   Document(metadata={'row': 6, 'source': 'data/context.csv'}, page_content='0.001 g\\\\nAgar – 13.5 g\\\\nWater – add to make 1 litre; adjust pH to 7.1 +/− 0.2\\\\nSodium taurocholateThere are many variations of MacConkey agar depending on the need. If the spreading or swarming of Proteus species is not required, sodium chloride is omitted. Crystal violet at a concentration of 0.0001% (0.001 g per litre) is included when needing to check if Gram-positive bacteria are inhibited. MacConkey with sorbitol is used to isolate E. coli O157, an enteric pathogen.\\\\n\\\\n\\\\n== History ==\\\\nThe'),\n",
       "   Document(metadata={'row': 6, 'source': 'data/context.csv'}, page_content='predominantly made from the lactose sugar in the agar.\\\\n\\\\n\\\\n== Variant ==\\\\nA variant, sorbitol-MacConkey agar, (with the addition of additional selective agents) can assist in the isolation and differentiation of enterohemorrhagic E. coli serotype E. coli O157:H7, by the presence of colorless circular colonies that are non-sorbitol fermenting.\\\\n\\\\n\\\\n== See also ==\\\\nR2a agar\\\\nMRS agar (culture medium designed to grow Gram-positive bacteria and differentiate them for lactose fermentation).\\\\n\\\\n\\\\n=='),\n",
       "   Document(metadata={'row': 6, 'source': 'data/context.csv'}, page_content='medium was developed by Alfred Theodore MacConkey while working as a bacteriologist for the Royal Commission on Sewage Disposal.\\\\n\\\\n\\\\n== Uses ==\\\\nUsing neutral red pH indicator, the agar distinguishes those Gram-negative bacteria that can ferment the sugar lactose (Lac+) from those that cannot (Lac-).\\\\nThis medium is also known as an \"indicator medium\" and a \"low selective medium\". Presence of bile salts inhibits swarming by Proteus species.\\\\n\\\\n\\\\n=== Lac positive ===\\\\nBy utilizing the lactose')]},\n",
       " {'query': 'who wrote a rose is a rose is a rose',\n",
       "  'response': 'The phrase \"a rose is a rose is a rose\" was written by Gertrude Stein.',\n",
       "  'context': [Document(metadata={'row': 4, 'source': 'data/context.csv'}, page_content='context: [\\'The sentence \"Rose is a rose is a rose is a rose\" was written by Gertrude Stein as part of the 1913 poem \"Sacred Emily\", which appeared in the 1922 book Geography and Plays. In that poem, the first \"Rose\" is the name of a person. Stein later used variations on the sentence in other writings, and the shortened form \"A rose is a rose is a rose\" is among her most famous quotations, often interpreted as meaning \"things are what they are\", a statement of the law of identity, \"A is A\". \\\\nIn'),\n",
       "   Document(metadata={'row': 4, 'source': 'data/context.csv'}, page_content='this he wrote a note to the gardener: \"Our roses are rose. Is a row Cicero\\\\\\'s?\" He has also rendered it as \"Arrows sees Harrow\\\\\\'s Ciceros\" in a spin-off book You Can\\\\\\'t Have Your Kayak and Heat It.\\\\nJulio Cortázar wrote in his novel Rayuela \"A es A, a rose is a rose is a rose, April is the cruellest month, cada cosa en su lugar y un lugar para cada rosa es una rosa es una rosa...\"\\\\nStephen King refers to \"A rose is a rose is a rose...\" in his popular fantasy series The Dark Tower.\\\\nHelge'),\n",
       "   Document(metadata={'row': 4, 'source': 'data/context.csv'}, page_content='she would carve on the tree Rose is a Rose is a Rose is a Rose is a Rose until it went all the way around.\" (The World is Round)\\\\n\"A rose tree may be a rose tree may be a rosy rose tree if watered.\" (Alphabets and Birthdays)\\\\n\"Indeed a rose is a rose makes a pretty plate....\" (Stanzas in Meditation)\\\\n\"When I said.A rose is a rose is a rose is a rose.\\\\nAnd then later made that into a ring I made poetry and what did I do I caressed completely caressed and addressed a noun.\"  (Lectures in'),\n",
       "   Document(metadata={'row': 4, 'source': 'data/context.csv'}, page_content='\\'Version ridicules the stupidity of court speeches when the prosecutor ends his opening speech with \"murder is murder is murder.\"\\\\nJeanette Winterson wrote in her novel Written on the Body: \"Sometimes a breast is a breast is a breast.\"\\\\n\"La rosa es una rosa es una rosa\" is used in Fernando del Paso\\\\\\'s Sonetos con lugares comunes.\\\\nA song by Poe (Anne Danielewski), \"A rose is a rose\", states \"a rose is a rose is a rose is a rose said my good friend Gertrude Stein.\"\\\\nThe computer game Carmen')]}]"
      ]
     },
     "execution_count": 27,
     "metadata": {},
     "output_type": "execute_result"
    }
   ],
   "source": [
    "questions = [\"what bacteria grow on macconkey agar\",\n",
    "    \"who wrote a rose is a rose is a rose\"\n",
    "]\n",
    "\n",
    "hyde_rag_data = []\n",
    "\n",
    "for q in questions:\n",
    "    answer_text = final_hyde_chain.invoke({\"context\": hyde_retrieved_docs, \"input\": q})\n",
    "    docs = retriever.get_relevant_documents(q)\n",
    "\n",
    "    # 最後に辞書データでまとめる\n",
    "    hyde_rag_data.append({\n",
    "        \"query\": q,\n",
    "        \"response\": answer_text,\n",
    "        \"context\": docs,\n",
    "    })\n",
    "\n",
    "hyde_rag_data"
   ]
  },
  {
   "cell_type": "code",
   "execution_count": null,
   "metadata": {},
   "outputs": [],
   "source": [
    "import pandas as pd\n",
    "from langchain.evaluation import load_evaluator\n",
    "from langchain.evaluation import EvaluatorType\n",
    "\n",
    "relevance_evaluator = load_evaluator(\n",
    "    EvaluatorType.QA,\n",
    "    criteria=\"relevance\",\n",
    "    model=\"gpt-4\",\n",
    "    model_kwargs={\"temperature\": 0}\n",
    ")\n",
    "\n",
    "accuracy_evaluator = load_evaluator(\n",
    "    EvaluatorType.QA,\n",
    "    criteria=\"accuracy\",\n",
    "    model=\"gpt-4\",\n",
    "    model_kwargs={\"temperature\": 0}\n",
    ")\n",
    "\n",
    "def evaluate_response(data: list) -> pd.DataFrame:\n",
    "    \"\"\"\n",
    "    与えられたデータリストに対する Relevance と Accuracy の評価を行い、結果を DataFrame で返します。\n",
    "    \"\"\"\n",
    "    df = pd.DataFrame(data)\n",
    "\n",
    "    def flatten_context(context_val):\n",
    "        if isinstance(context_val, list):\n",
    "            return \"\\n\".join([item.page_content if hasattr(item, \"page_content\") else str(item) for item in context_val])\n",
    "        return str(context_val)\n",
    "\n",
    "    df[\"ContextText\"] = df[\"context\"].apply(flatten_context)\n",
    "\n",
    "    def evaluate_row(row):\n",
    "        relevance_score = relevance_evaluator.evaluate_strings(\n",
    "            prediction=row[\"response\"],\n",
    "            input=row[\"query\"],\n",
    "            reference=row[\"ContextText\"]\n",
    "        )\n",
    "        accuracy_score = accuracy_evaluator.evaluate_strings(\n",
    "            prediction=row[\"response\"],\n",
    "            input=row[\"query\"],\n",
    "            reference=row[\"ContextText\"]\n",
    "        )\n",
    "        return relevance_score, accuracy_score\n",
    "\n",
    "    df[[\"Relevance\", \"Accuracy\"]] = df.apply(lambda row: pd.Series(evaluate_row(row)), axis=1)\n",
    "    \n",
    "    df[\"RelevanceScore\"] = df[\"Relevance\"].apply(lambda x: 1 if x[\"value\"].upper() == \"CORRECT\" else 0)\n",
    "    df[\"AccuracyScore\"] = df[\"Accuracy\"].apply(lambda x: 1 if x[\"value\"].upper() == \"CORRECT\" else 0)\n",
    "    \n",
    "    # 平均スコアを計算\n",
    "    avg_relevance = df[\"RelevanceScore\"].mean()\n",
    "    avg_accuracy = df[\"AccuracyScore\"].mean()\n",
    "    \n",
    "    print(f\"Average Relevance: {avg_relevance:.2f}\")\n",
    "    print(f\"Average Accuracy: {avg_accuracy:.2f}\")\n",
    "\n",
    "    return df[[\"query\", \"response\", \"ContextText\", \"Relevance\", \"Accuracy\"]]\n",
    "\n",
    "\n"
   ]
  },
  {
   "cell_type": "markdown",
   "metadata": {},
   "source": [
    "評価の平均スコア\n",
    "\n",
    "Average Relevance: 回答の関連性の平均スコアです。1.00に近いほど、関連性が高いと評価されていることを示します。\n",
    "Average Accuracy: 回答の正確性の平均スコアです。1.00に近いほど、正確性が高いと評価されていることを示します。\n",
    "評価結果のDataFrame\n",
    "\n",
    "query: 質問内容です。\n",
    "response: RAGモデルによる回答です。\n",
    "ContextText: RAGモデルが回答を生成する際に参照したコンテキスト（文書）の内容です。\n",
    "Relevance: 回答の関連性に関する評価結果の詳細です。valueがCORRECTであれば、関連性が高いと評価されています。\n",
    "Accuracy: 回答の正確性に関する評価結果の詳細です。valueがCORRECTであれば、正確性が高いと評価されています。"
   ]
  },
  {
   "cell_type": "code",
   "execution_count": 44,
   "metadata": {},
   "outputs": [
    {
     "name": "stdout",
     "output_type": "stream",
     "text": [
      "\n",
      "=== Native RAG Evaluation ===\n",
      "Average Relevance: 1.00\n",
      "Average Accuracy: 1.00\n"
     ]
    },
    {
     "data": {
      "text/html": [
       "<div>\n",
       "<style scoped>\n",
       "    .dataframe tbody tr th:only-of-type {\n",
       "        vertical-align: middle;\n",
       "    }\n",
       "\n",
       "    .dataframe tbody tr th {\n",
       "        vertical-align: top;\n",
       "    }\n",
       "\n",
       "    .dataframe thead th {\n",
       "        text-align: right;\n",
       "    }\n",
       "</style>\n",
       "<table border=\"1\" class=\"dataframe\">\n",
       "  <thead>\n",
       "    <tr style=\"text-align: right;\">\n",
       "      <th></th>\n",
       "      <th>query</th>\n",
       "      <th>response</th>\n",
       "      <th>ContextText</th>\n",
       "      <th>Relevance</th>\n",
       "      <th>Accuracy</th>\n",
       "    </tr>\n",
       "  </thead>\n",
       "  <tbody>\n",
       "    <tr>\n",
       "      <th>0</th>\n",
       "      <td>what bacteria grow on macconkey agar</td>\n",
       "      <td>Gram-negative and enteric (normally found in t...</td>\n",
       "      <td>context: ['MacConkey agar is a selective and d...</td>\n",
       "      <td>{'reasoning': 'CORRECT', 'value': 'CORRECT', '...</td>\n",
       "      <td>{'reasoning': 'CORRECT', 'value': 'CORRECT', '...</td>\n",
       "    </tr>\n",
       "    <tr>\n",
       "      <th>1</th>\n",
       "      <td>who wrote a rose is a rose is a rose</td>\n",
       "      <td>Gertrude Stein wrote \"A rose is a rose is a ro...</td>\n",
       "      <td>context: ['The sentence \"Rose is a rose is a r...</td>\n",
       "      <td>{'reasoning': 'CORRECT', 'value': 'CORRECT', '...</td>\n",
       "      <td>{'reasoning': 'CORRECT', 'value': 'CORRECT', '...</td>\n",
       "    </tr>\n",
       "  </tbody>\n",
       "</table>\n",
       "</div>"
      ],
      "text/plain": [
       "                                  query  \\\n",
       "0  what bacteria grow on macconkey agar   \n",
       "1  who wrote a rose is a rose is a rose   \n",
       "\n",
       "                                            response  \\\n",
       "0  Gram-negative and enteric (normally found in t...   \n",
       "1  Gertrude Stein wrote \"A rose is a rose is a ro...   \n",
       "\n",
       "                                         ContextText  \\\n",
       "0  context: ['MacConkey agar is a selective and d...   \n",
       "1  context: ['The sentence \"Rose is a rose is a r...   \n",
       "\n",
       "                                           Relevance  \\\n",
       "0  {'reasoning': 'CORRECT', 'value': 'CORRECT', '...   \n",
       "1  {'reasoning': 'CORRECT', 'value': 'CORRECT', '...   \n",
       "\n",
       "                                            Accuracy  \n",
       "0  {'reasoning': 'CORRECT', 'value': 'CORRECT', '...  \n",
       "1  {'reasoning': 'CORRECT', 'value': 'CORRECT', '...  "
      ]
     },
     "execution_count": 44,
     "metadata": {},
     "output_type": "execute_result"
    }
   ],
   "source": [
    "# Native RAG と HyDE RAG の評価\n",
    "print(\"\\n=== Native RAG Evaluation ===\")\n",
    "native_eval_df = evaluate_response(native_rag_data)\n",
    "native_eval_df"
   ]
  },
  {
   "cell_type": "code",
   "execution_count": 45,
   "metadata": {},
   "outputs": [
    {
     "name": "stdout",
     "output_type": "stream",
     "text": [
      "\n",
      "=== HyDE RAG Evaluation ===\n",
      "Average Relevance: 1.00\n",
      "Average Accuracy: 1.00\n"
     ]
    },
    {
     "data": {
      "text/html": [
       "<div>\n",
       "<style scoped>\n",
       "    .dataframe tbody tr th:only-of-type {\n",
       "        vertical-align: middle;\n",
       "    }\n",
       "\n",
       "    .dataframe tbody tr th {\n",
       "        vertical-align: top;\n",
       "    }\n",
       "\n",
       "    .dataframe thead th {\n",
       "        text-align: right;\n",
       "    }\n",
       "</style>\n",
       "<table border=\"1\" class=\"dataframe\">\n",
       "  <thead>\n",
       "    <tr style=\"text-align: right;\">\n",
       "      <th></th>\n",
       "      <th>query</th>\n",
       "      <th>response</th>\n",
       "      <th>ContextText</th>\n",
       "      <th>Relevance</th>\n",
       "      <th>Accuracy</th>\n",
       "    </tr>\n",
       "  </thead>\n",
       "  <tbody>\n",
       "    <tr>\n",
       "      <th>0</th>\n",
       "      <td>what bacteria grow on macconkey agar</td>\n",
       "      <td>Bacteria that grow on MacConkey agar are prima...</td>\n",
       "      <td>context: ['MacConkey agar is a selective and d...</td>\n",
       "      <td>{'reasoning': 'CORRECT', 'value': 'CORRECT', '...</td>\n",
       "      <td>{'reasoning': 'CORRECT', 'value': 'CORRECT', '...</td>\n",
       "    </tr>\n",
       "    <tr>\n",
       "      <th>1</th>\n",
       "      <td>who wrote a rose is a rose is a rose</td>\n",
       "      <td>The phrase \"a rose is a rose is a rose\" was wr...</td>\n",
       "      <td>context: ['The sentence \"Rose is a rose is a r...</td>\n",
       "      <td>{'reasoning': 'CORRECT', 'value': 'CORRECT', '...</td>\n",
       "      <td>{'reasoning': 'CORRECT', 'value': 'CORRECT', '...</td>\n",
       "    </tr>\n",
       "  </tbody>\n",
       "</table>\n",
       "</div>"
      ],
      "text/plain": [
       "                                  query  \\\n",
       "0  what bacteria grow on macconkey agar   \n",
       "1  who wrote a rose is a rose is a rose   \n",
       "\n",
       "                                            response  \\\n",
       "0  Bacteria that grow on MacConkey agar are prima...   \n",
       "1  The phrase \"a rose is a rose is a rose\" was wr...   \n",
       "\n",
       "                                         ContextText  \\\n",
       "0  context: ['MacConkey agar is a selective and d...   \n",
       "1  context: ['The sentence \"Rose is a rose is a r...   \n",
       "\n",
       "                                           Relevance  \\\n",
       "0  {'reasoning': 'CORRECT', 'value': 'CORRECT', '...   \n",
       "1  {'reasoning': 'CORRECT', 'value': 'CORRECT', '...   \n",
       "\n",
       "                                            Accuracy  \n",
       "0  {'reasoning': 'CORRECT', 'value': 'CORRECT', '...  \n",
       "1  {'reasoning': 'CORRECT', 'value': 'CORRECT', '...  "
      ]
     },
     "execution_count": 45,
     "metadata": {},
     "output_type": "execute_result"
    }
   ],
   "source": [
    "print(\"\\n=== HyDE RAG Evaluation ===\")\n",
    "hyde_eval_df = evaluate_response(hyde_rag_data)\n",
    "hyde_eval_df"
   ]
  }
 ],
 "metadata": {
  "kernelspec": {
   "display_name": "env_py3_10",
   "language": "python",
   "name": "python3"
  },
  "language_info": {
   "codemirror_mode": {
    "name": "ipython",
    "version": 3
   },
   "file_extension": ".py",
   "mimetype": "text/x-python",
   "name": "python",
   "nbconvert_exporter": "python",
   "pygments_lexer": "ipython3",
   "version": "3.10.10"
  }
 },
 "nbformat": 4,
 "nbformat_minor": 2
}
